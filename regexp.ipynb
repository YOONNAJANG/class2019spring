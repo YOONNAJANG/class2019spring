{
 "cells": [
  {
   "cell_type": "markdown",
   "metadata": {},
   "source": [
    "# week 4\n",
    "\n",
    "## 3 / 28 "
   ]
  },
  {
   "cell_type": "markdown",
   "metadata": {},
   "source": [
    "### regular expression\n",
    "\n",
    "string에 적용"
   ]
  },
  {
   "cell_type": "code",
   "execution_count": 1,
   "metadata": {},
   "outputs": [],
   "source": [
    "import nltk\n",
    "import re"
   ]
  },
  {
   "cell_type": "code",
   "execution_count": 2,
   "metadata": {},
   "outputs": [
    {
     "data": {
      "text/plain": [
       "'\\nBasic Regular Expression Meta-Characters, Including Wildcards, Ranges and Closures\\n\\n.\\t        Wildcard, matches any character\\n\\n^abc\\t    Matches some pattern abc at the start of a string\\n\\nabc$\\t    Matches some pattern abc at the end of a string\\n\\n[abc]\\t    Matches one of a set of characters\\n\\n[^abc]      Matches anything but a set of characters\\n\\n[A-Z0-9]\\tMatches one of a range of characters\\n\\ned|ing|s\\tMatches one of the specified strings (disjunction)\\n\\n*\\t        Zero or more of previous item, e.g. a*, [a-z]* (also known as Kleene Closure)\\n\\n+\\t        One or more of previous item, e.g. a+, [a-z]+\\n\\n?\\t        Zero or one of the previous item (i.e. optional), e.g. a?, [a-z]?\\n\\n{n}\\t        Exactly n repeats where n is a non-negative integer\\n\\n{n,}\\t    At least n repeats\\n\\n{,n}\\t    No more than n repeats\\n\\n{m,n}\\t    At least m and no more than n repeats\\n\\na(b|c)+\\t    Parentheses that indicate the scope of the operators\\n\\n'"
      ]
     },
     "execution_count": 2,
     "metadata": {},
     "output_type": "execute_result"
    }
   ],
   "source": [
    "\"\"\"\n",
    "Basic Regular Expression Meta-Characters, Including Wildcards, Ranges and Closures\n",
    "\n",
    ".\t        Wildcard, matches any character\n",
    "\n",
    "^abc\t    Matches some pattern abc at the start of a string\n",
    "\n",
    "abc$\t    Matches some pattern abc at the end of a string\n",
    "\n",
    "[abc]\t    Matches one of a set of characters\n",
    "\n",
    "[^abc]      Matches anything but a set of characters\n",
    "\n",
    "[A-Z0-9]\tMatches one of a range of characters\n",
    "\n",
    "ed|ing|s\tMatches one of the specified strings (disjunction)\n",
    "\n",
    "*\t        Zero or more of previous item, e.g. a*, [a-z]* (also known as Kleene Closure)\n",
    "\n",
    "+\t        One or more of previous item, e.g. a+, [a-z]+\n",
    "\n",
    "?\t        Zero or one of the previous item (i.e. optional), e.g. a?, [a-z]?\n",
    "\n",
    "{n}\t        Exactly n repeats where n is a non-negative integer\n",
    "\n",
    "{n,}\t    At least n repeats\n",
    "\n",
    "{,n}\t    No more than n repeats\n",
    "\n",
    "{m,n}\t    At least m and no more than n repeats\n",
    "\n",
    "a(b|c)+\t    Parentheses that indicate the scope of the operators\n",
    "\n",
    "\"\"\""
   ]
  },
  {
   "cell_type": "markdown",
   "metadata": {},
   "source": [
    "### list comprehension\n",
    "\n",
    "list comprehension을 이용하면 코드가 훨씬 경제적, 효율적"
   ]
  },
  {
   "cell_type": "code",
   "execution_count": 3,
   "metadata": {},
   "outputs": [
    {
     "name": "stdout",
     "output_type": "stream",
     "text": [
      "<class 'list'>\n"
     ]
    }
   ],
   "source": [
    "dic = nltk.corpus.words.words('en')\n",
    "print(type(dic))"
   ]
  },
  {
   "cell_type": "markdown",
   "metadata": {},
   "source": [
    "[ a  for  a  in  b  if  c]\n",
    "\n",
    "b 안에 있는 것을 하나씩 돌며 그 중 c 인 조건을 만족하면 a를 리스트 안에 추가"
   ]
  },
  {
   "cell_type": "code",
   "execution_count": 4,
   "metadata": {},
   "outputs": [
    {
     "name": "stdout",
     "output_type": "stream",
     "text": [
      "length of wordlist :  210687\n",
      "type of wordlist :  <class 'list'>\n",
      "['a', 'aa', 'aal', 'aalii', 'aam', 'aardvark', 'aardwolf', 'aba', 'abac', 'abaca']\n"
     ]
    }
   ],
   "source": [
    "wordlist = [w for w in dic if w.islower()]\n",
    "print(\"length of wordlist : \",len(wordlist))\n",
    "print(\"type of wordlist : \", type(wordlist))\n",
    "print(wordlist[:10])"
   ]
  },
  {
   "cell_type": "markdown",
   "metadata": {},
   "source": [
    "### search\n",
    "\n",
    "re.search(찾을 항목, 대상)"
   ]
  },
  {
   "cell_type": "code",
   "execution_count": 5,
   "metadata": {},
   "outputs": [
    {
     "data": {
      "text/plain": [
       "<re.Match object; span=(0, 3), match='abc'>"
      ]
     },
     "execution_count": 5,
     "metadata": {},
     "output_type": "execute_result"
    }
   ],
   "source": [
    "re.search('abc','abcde')"
   ]
  },
  {
   "cell_type": "markdown",
   "metadata": {},
   "source": [
    "abc 안에 abcde가 존재하지 않으므로 결과 없음"
   ]
  },
  {
   "cell_type": "code",
   "execution_count": 6,
   "metadata": {},
   "outputs": [],
   "source": [
    "re.search('abcde','abc')"
   ]
  },
  {
   "cell_type": "markdown",
   "metadata": {},
   "source": [
    "wordlist를 하나씩 돌며 ed로 끝나는 것을 모두 찾아 result 리스트에 추가, 그 후 10개만 슬라이스 "
   ]
  },
  {
   "cell_type": "code",
   "execution_count": 7,
   "metadata": {},
   "outputs": [
    {
     "name": "stdout",
     "output_type": "stream",
     "text": [
      "['abaissed', 'abandoned', 'abased', 'abashed', 'abatised', 'abed', 'aborted', 'abridged', 'abscessed', 'absconded']\n",
      "['abaissed', 'abandoned', 'abased', 'abashed', 'abatised', 'abed', 'aborted', 'abridged', 'abscessed', 'absconded']\n"
     ]
    }
   ],
   "source": [
    "result = [w for w in wordlist if re.search('ed$', w)][:10]\n",
    "print(result[:10])\n",
    "print(result)"
   ]
  },
  {
   "cell_type": "markdown",
   "metadata": {},
   "source": [
    "총 여덟개의 캐릭터중 세 번째에 j, 여섯 번째에 t 가 있는 문자열 찾아서 10개만 슬라이스"
   ]
  },
  {
   "cell_type": "code",
   "execution_count": 8,
   "metadata": {},
   "outputs": [
    {
     "name": "stdout",
     "output_type": "stream",
     "text": [
      "['abjectly', 'adjuster', 'dejected', 'dejectly', 'injector', 'majestic', 'objectee', 'objector', 'rejecter', 'rejector']\n"
     ]
    }
   ],
   "source": [
    "result = [w for w in wordlist if re.search('^..j..t..$', w)][:10]\n",
    "print(result[:10])"
   ]
  },
  {
   "cell_type": "markdown",
   "metadata": {},
   "source": [
    "ghi 중 하나로 시작, 그 다음 캐릭터는 mno 중 하나, 그 다음 캐릭터는 jlk 중 하나 def 하나로 끝나는 캐릭터 4개로 이루어진 문자열 찾아 10개만 슬라이스"
   ]
  },
  {
   "cell_type": "code",
   "execution_count": 9,
   "metadata": {},
   "outputs": [
    {
     "name": "stdout",
     "output_type": "stream",
     "text": [
      "['gold', 'golf', 'hold', 'hole']\n"
     ]
    }
   ],
   "source": [
    "result = [w for w in wordlist if re.search('^[ghi][mno][jlk][def]$', w)][:10]\n",
    "print(result[:10])"
   ]
  },
  {
   "cell_type": "markdown",
   "metadata": {},
   "source": [
    "a와 h 중 하나가 1번 이상 등장이면서 시작이자 끝이 둘중 하나인 문자열 찾아 10개만 슬라이스"
   ]
  },
  {
   "cell_type": "code",
   "execution_count": 10,
   "metadata": {},
   "outputs": [
    {
     "name": "stdout",
     "output_type": "stream",
     "text": [
      "['a', 'aa', 'ah', 'aha', 'h', 'ha', 'hah']\n"
     ]
    }
   ],
   "source": [
    "result = [w for w in wordlist if re.search('^[ah]+$', w)][:10]\n",
    "print(result[:10])"
   ]
  },
  {
   "cell_type": "markdown",
   "metadata": {},
   "source": [
    "nltk의 treebank 라는 코퍼스를 words 단위로 쪼갠 후 set을 통해 집합화, 순서대로 정렬한 wsj 리스트"
   ]
  },
  {
   "cell_type": "code",
   "execution_count": 11,
   "metadata": {},
   "outputs": [],
   "source": [
    "wsj = sorted(set(nltk.corpus.treebank.words()))\n"
   ]
  },
  {
   "cell_type": "markdown",
   "metadata": {},
   "source": [
    "wsj 리스트의 요소를 하나씩 돌며 숫자로 시작하고 중간에 . 이 있고 숫자로 끝나는 즉 양의 유리수 모두 찾아서 wordlist로 만든 후 10개만 뽑아 프린트\n",
    "\n",
    "특수문자 . 을 표현할 때는 앞에 backslash \\ 를 붙여 표현 "
   ]
  },
  {
   "cell_type": "code",
   "execution_count": 12,
   "metadata": {},
   "outputs": [
    {
     "name": "stdout",
     "output_type": "stream",
     "text": [
      "['0.0085', '0.05', '0.1', '0.16', '0.2', '0.25', '0.28', '0.3', '0.4', '0.5']\n"
     ]
    }
   ],
   "source": [
    "wordlist = [w for w in wsj if re.search('^[0-9]+\\.[0-9]+$', w)]\n",
    "print(wordlist[:10])"
   ]
  },
  {
   "cell_type": "markdown",
   "metadata": {},
   "source": [
    "알파벳으로 시작하여 한 글자 이상이고 $로 끝나는 문자열 모두 찾아 10개만 반환\n",
    "\n",
    "[ ] 속에 있는 것은 그 안의 문자 하나를 의미"
   ]
  },
  {
   "cell_type": "code",
   "execution_count": 13,
   "metadata": {},
   "outputs": [
    {
     "name": "stdout",
     "output_type": "stream",
     "text": [
      "['C$', 'US$']\n"
     ]
    }
   ],
   "source": [
    "wordlist = [w for w in wsj if re.search('^[A-Z]+\\$$', w)]\n",
    "print(wordlist[:10])"
   ]
  },
  {
   "cell_type": "markdown",
   "metadata": {},
   "source": [
    "숫자 4 개로 이루어져 있으며 그대로 끝나는 문자열 모두 찾은 후 10개 출력"
   ]
  },
  {
   "cell_type": "code",
   "execution_count": 14,
   "metadata": {},
   "outputs": [
    {
     "name": "stdout",
     "output_type": "stream",
     "text": [
      "['1614', '1637', '1787', '1901', '1903', '1917', '1925', '1929', '1933', '1934']\n"
     ]
    }
   ],
   "source": [
    "wordlist = [w for w in wsj if re.search('^[0-9]{4}$', w)]\n",
    "print(wordlist[:10])"
   ]
  },
  {
   "cell_type": "markdown",
   "metadata": {},
   "source": [
    "숫자로 시작 후 하나 이상 존재, - 가 나온 후 알파벳이 3개에서 5개 사이로 나온 후 끝나는 문자열 찾은 후 10개 출력"
   ]
  },
  {
   "cell_type": "code",
   "execution_count": 15,
   "metadata": {},
   "outputs": [
    {
     "name": "stdout",
     "output_type": "stream",
     "text": [
      "['10-day', '10-lap', '10-year', '100-share', '12-point', '12-year', '14-hour', '15-day', '150-point', '190-point']\n"
     ]
    }
   ],
   "source": [
    "wordlist = [w for w in wsj if re.search('^[0-9]+-[a-z]{3,5}$', w)]\n",
    "print(wordlist[:10])"
   ]
  },
  {
   "cell_type": "markdown",
   "metadata": {},
   "source": [
    "알파벳이 5개 이상, - 가 한개 나온 후 알파벳이 2개에서 3개, - 한개 뒤에 알파벳이 6개 이하로 끝나는 문자열 찾은 후 10개 출력"
   ]
  },
  {
   "cell_type": "code",
   "execution_count": 16,
   "metadata": {},
   "outputs": [
    {
     "name": "stdout",
     "output_type": "stream",
     "text": [
      "['black-and-white', 'bread-and-butter', 'father-in-law', 'machine-gun-toting', 'savings-and-loan']\n"
     ]
    }
   ],
   "source": [
    "wordlist = [w for w in wsj if re.search('^[a-z]{5,}-[a-z]{2,3}-[a-z]{,6}$', w)]\n",
    "print(wordlist[:10])"
   ]
  },
  {
   "cell_type": "markdown",
   "metadata": {},
   "source": [
    "| 는 or 의미\n",
    "\n",
    "ed 혹은 ing로 끝나는 문자열 찾은 후 10개만 출력"
   ]
  },
  {
   "cell_type": "code",
   "execution_count": 17,
   "metadata": {},
   "outputs": [
    {
     "name": "stdout",
     "output_type": "stream",
     "text": [
      "['62%-owned', 'Absorbed', 'According', 'Adopting', 'Advanced', 'Advancing', 'Alfred', 'Allied', 'Annualized', 'Anything']\n"
     ]
    }
   ],
   "source": [
    "wordlist = [w for w in wsj if re.search('(ed|ing)$', w)]\n",
    "print(wordlist[:10])"
   ]
  },
  {
   "cell_type": "markdown",
   "metadata": {},
   "source": [
    "### findall\n",
    "\n",
    "re.findall(찾을 요소, 대상)\n",
    "\n",
    "찾은 것은 리스트로 모두 반환"
   ]
  },
  {
   "cell_type": "code",
   "execution_count": 18,
   "metadata": {},
   "outputs": [
    {
     "data": {
      "text/plain": [
       "['ab', 'ab', 'ab', 'ab']"
      ]
     },
     "execution_count": 18,
     "metadata": {},
     "output_type": "execute_result"
    }
   ],
   "source": [
    "re.findall('ab','ababdddabkabdd')"
   ]
  },
  {
   "cell_type": "markdown",
   "metadata": {},
   "source": [
    "for loop 두 번 등장! 첫 번째 for의 in 부터 확인\n",
    "\n",
    "wsj 안에 있는 요소들을 word로 받아와 하나씩 돌면서 word 안에서 aeiou 중 하나가 2번 이상 연속으로 등장하는 것을 모두 찾아서 리스트로 받아 다시 리스트 안에 넣기"
   ]
  },
  {
   "cell_type": "code",
   "execution_count": 19,
   "metadata": {},
   "outputs": [
    {
     "name": "stdout",
     "output_type": "stream",
     "text": [
      "length :  3405\n",
      "first 10 elements :  ['ea', 'oi', 'ea', 'ou', 'oi', 'ea', 'ea', 'oi', 'oi', 'ea']\n"
     ]
    }
   ],
   "source": [
    "test = [vs for word in wsj for vs in re.findall(r'[aeiou]{2,}', word)]\n",
    "print(\"length : \", len(test))\n",
    "print(\"first 10 elements : \", test[:10])"
   ]
  },
  {
   "cell_type": "markdown",
   "metadata": {},
   "source": [
    "위에서 모음 연속을 찾아 만든 리스트의 분포를 freqdist를 이용하여 결과 보기"
   ]
  },
  {
   "cell_type": "code",
   "execution_count": 20,
   "metadata": {},
   "outputs": [
    {
     "data": {
      "text/plain": [
       "[('io', 549),\n",
       " ('ea', 476),\n",
       " ('ie', 331),\n",
       " ('ou', 329),\n",
       " ('ai', 261),\n",
       " ('ia', 253),\n",
       " ('ee', 217),\n",
       " ('oo', 174),\n",
       " ('ua', 109),\n",
       " ('au', 106),\n",
       " ('ue', 105),\n",
       " ('ui', 95),\n",
       " ('ei', 86),\n",
       " ('oi', 65),\n",
       " ('oa', 59),\n",
       " ('eo', 39),\n",
       " ('iou', 27),\n",
       " ('eu', 18),\n",
       " ('oe', 15),\n",
       " ('iu', 14),\n",
       " ('ae', 11),\n",
       " ('eau', 10),\n",
       " ('uo', 8),\n",
       " ('oui', 6),\n",
       " ('ao', 6),\n",
       " ('eou', 5),\n",
       " ('uou', 5),\n",
       " ('uee', 4),\n",
       " ('aa', 3),\n",
       " ('ieu', 3),\n",
       " ('uie', 3),\n",
       " ('eei', 2),\n",
       " ('iai', 1),\n",
       " ('oei', 1),\n",
       " ('uu', 1),\n",
       " ('aii', 1),\n",
       " ('aiia', 1),\n",
       " ('aia', 1),\n",
       " ('iao', 1),\n",
       " ('eea', 1),\n",
       " ('ueui', 1),\n",
       " ('ioa', 1),\n",
       " ('ooi', 1)]"
      ]
     },
     "execution_count": 20,
     "metadata": {},
     "output_type": "execute_result"
    }
   ],
   "source": [
    "fdist = nltk.FreqDist(vs for word in wsj for vs in re.findall(r'[aeiou]{2,}', word))\n",
    "fdist.most_common()"
   ]
  },
  {
   "cell_type": "markdown",
   "metadata": {},
   "source": [
    "supercalifragilisticexpialidocious 에서 모음 찾기"
   ]
  },
  {
   "cell_type": "code",
   "execution_count": 21,
   "metadata": {},
   "outputs": [],
   "source": [
    "word = 'supercalifragilisticexpialidocious'"
   ]
  },
  {
   "cell_type": "code",
   "execution_count": 22,
   "metadata": {},
   "outputs": [
    {
     "name": "stdout",
     "output_type": "stream",
     "text": [
      "['u', 'e', 'a', 'i', 'a', 'i', 'i', 'i', 'e', 'i', 'a', 'i', 'o', 'i', 'o', 'u']\n"
     ]
    }
   ],
   "source": [
    "result = re.findall(r'[aeiou]', word)\n",
    "print(result)"
   ]
  },
  {
   "cell_type": "markdown",
   "metadata": {},
   "source": [
    "모음 종류별로 나온 순서 확인"
   ]
  },
  {
   "cell_type": "code",
   "execution_count": 23,
   "metadata": {},
   "outputs": [
    {
     "data": {
      "text/plain": [
       "[('i', 7), ('a', 3), ('u', 2), ('e', 2), ('o', 2)]"
      ]
     },
     "execution_count": 23,
     "metadata": {},
     "output_type": "execute_result"
    }
   ],
   "source": [
    "nltk.FreqDist(result).most_common()"
   ]
  },
  {
   "cell_type": "markdown",
   "metadata": {},
   "source": [
    "( )를 통해 그룹화, 모음과 모음 사이에 있는 두 글자 찾아서 반환"
   ]
  },
  {
   "cell_type": "code",
   "execution_count": 24,
   "metadata": {},
   "outputs": [
    {
     "name": "stdout",
     "output_type": "stream",
     "text": [
      "['rc', 'fr', 'st', 'xp', 'ci']\n"
     ]
    }
   ],
   "source": [
    "result = re.findall('[aeiou](..)[aeiou]', word)\n",
    "print(result)"
   ]
  },
  {
   "cell_type": "markdown",
   "metadata": {},
   "source": [
    "모음이 아닌 글자로 시작하고 중간에 어떤 글자든 한개 이상, 마지막은 모음이 아닌 글자 - > 대상 전체에 해당"
   ]
  },
  {
   "cell_type": "code",
   "execution_count": 25,
   "metadata": {},
   "outputs": [
    {
     "name": "stdout",
     "output_type": "stream",
     "text": [
      "['supercalifragilisticexpialidocious']\n"
     ]
    }
   ],
   "source": [
    "result = re.findall('[^aeiou].+[^aeiou]', word)\n",
    "print(result)"
   ]
  },
  {
   "cell_type": "markdown",
   "metadata": {},
   "source": [
    "모음이 아닌 글자로 시작, 끝이며 중간의 글자가 0개 또는 한개"
   ]
  },
  {
   "cell_type": "code",
   "execution_count": 26,
   "metadata": {},
   "outputs": [
    {
     "name": "stdout",
     "output_type": "stream",
     "text": [
      "['sup', 'rc', 'lif', 'rag', 'lis', 'tic', 'xp', 'lid']\n"
     ]
    }
   ],
   "source": [
    "result = re.findall('[^aeiou].?[^aeiou]', word)\n",
    "print(result)"
   ]
  },
  {
   "cell_type": "markdown",
   "metadata": {},
   "source": [
    "*?, +?, ?? \n",
    "\n",
    "*, +, ?와 같지만 최소로 매칭\n",
    "\n",
    "모음이 아닌 글자로 시작, 끝나고 중간에 어떤 문자든 1개 혹은 그 이상인 경우를 최소 매칭 "
   ]
  },
  {
   "cell_type": "code",
   "execution_count": 27,
   "metadata": {},
   "outputs": [
    {
     "name": "stdout",
     "output_type": "stream",
     "text": [
      "['sup', 'rcal', 'frag', 'lis', 'tic', 'xpial', 'doc']\n"
     ]
    }
   ],
   "source": [
    "result = re.findall('[^aeiou].+?[^aeiou]', word)\n",
    "print(result)"
   ]
  },
  {
   "cell_type": "markdown",
   "metadata": {},
   "source": [
    "wsj의 단어 리스트를 돌며 모음이 2회 이상이면 리스트에 추가, 그것을 대상으로 빈도 조사 후 가장 많이 나온 10개 반환"
   ]
  },
  {
   "cell_type": "code",
   "execution_count": 28,
   "metadata": {},
   "outputs": [
    {
     "data": {
      "text/plain": [
       "[('io', 549),\n",
       " ('ea', 476),\n",
       " ('ie', 331),\n",
       " ('ou', 329),\n",
       " ('ai', 261),\n",
       " ('ia', 253),\n",
       " ('ee', 217),\n",
       " ('oo', 174),\n",
       " ('ua', 109),\n",
       " ('au', 106)]"
      ]
     },
     "execution_count": 28,
     "metadata": {},
     "output_type": "execute_result"
    }
   ],
   "source": [
    "wsj = sorted(set(nltk.corpus.treebank.words()))\n",
    "fdist = nltk.FreqDist(vs for word in wsj for vs in re.findall(r'[aeiou]{2,}', word))\n",
    "fdist.most_common(10)"
   ]
  },
  {
   "cell_type": "markdown",
   "metadata": {},
   "source": [
    "대,소문자 모음으로 시작하거나 끝나는 한개 이상의 문자열, 혹은 대,소문자 모음이 아닌 하나의 문자열을 regexp에 저장\n",
    "\n",
    "compress 함수를 작성하여 받은 인자에서 regexp를 findall로 모두 찾아 반환된 리스트를 출력하고, 그 리스트를 모두 연결한 값을 리턴"
   ]
  },
  {
   "cell_type": "code",
   "execution_count": 29,
   "metadata": {},
   "outputs": [],
   "source": [
    "regexp = r'^[AEIOUaeiou]+|[AEIOUaeiou]+$|[^AEIOUaeiou]'\n",
    "def compress(word):\n",
    "    pieces = re.findall(regexp, word)\n",
    "    print(pieces)\n",
    "    return ''.join(pieces)"
   ]
  },
  {
   "cell_type": "markdown",
   "metadata": {},
   "source": [
    "regexp 라는 조건에 따라 맨 앞과 맨 뒤에 나오는 모음(들)을 제외하고 중간에 있는 모음은 모두 삭제됨"
   ]
  },
  {
   "cell_type": "code",
   "execution_count": 30,
   "metadata": {},
   "outputs": [
    {
     "name": "stdout",
     "output_type": "stream",
     "text": [
      "['U', 'n', 'v', 'r', 's', 'l']\n"
     ]
    }
   ],
   "source": [
    "test = re.findall(regexp, \"Universal\")\n",
    "print(test)"
   ]
  },
  {
   "cell_type": "code",
   "execution_count": 31,
   "metadata": {},
   "outputs": [
    {
     "name": "stdout",
     "output_type": "stream",
     "text": [
      "['AE', 'B', 'EE']\n"
     ]
    }
   ],
   "source": [
    "test2 = re.findall(regexp, \"AEBEE\")\n",
    "print(test2)"
   ]
  },
  {
   "cell_type": "markdown",
   "metadata": {},
   "source": [
    "nltk udhr 코퍼스를 단어 단위로 쪼개어 english_udhr 리스트 생성"
   ]
  },
  {
   "cell_type": "code",
   "execution_count": 32,
   "metadata": {},
   "outputs": [
    {
     "name": "stdout",
     "output_type": "stream",
     "text": [
      "length of english_udhr :  1781\n",
      "first 10 elements :  ['Universal', 'Declaration', 'of', 'Human', 'Rights', 'Preamble', 'Whereas', 'recognition', 'of', 'the']\n"
     ]
    }
   ],
   "source": [
    "english_udhr = nltk.corpus.udhr.words('English-Latin1')\n",
    "print(\"length of english_udhr : \", len(english_udhr))\n",
    "print(\"first 10 elements : \", english_udhr[:10])"
   ]
  },
  {
   "cell_type": "code",
   "execution_count": 33,
   "metadata": {},
   "outputs": [
    {
     "name": "stdout",
     "output_type": "stream",
     "text": [
      "['U', 'n', 'v', 'r', 's', 'l']\n",
      "['D', 'c', 'l', 'r', 't', 'n']\n",
      "['o', 'f']\n",
      "['H', 'm', 'n']\n",
      "['R', 'g', 'h', 't', 's']\n",
      "['P', 'r', 'm', 'b', 'l', 'e']\n",
      "['W', 'h', 'r', 's']\n",
      "['r', 'c', 'g', 'n', 't', 'n']\n",
      "['o', 'f']\n",
      "['t', 'h', 'e']\n",
      "['i', 'n', 'h', 'r', 'n', 't']\n",
      "['d', 'g', 'n', 't', 'y']\n",
      "['a', 'n', 'd']\n",
      "['o', 'f']\n",
      "['t', 'h', 'e']\n",
      "['e', 'q', 'l']\n",
      "['a', 'n', 'd']\n",
      "['i', 'n', 'l', 'n', 'b', 'l', 'e']\n",
      "['r', 'g', 'h', 't', 's']\n",
      "['o', 'f']\n",
      "['a', 'l', 'l']\n",
      "['m', 'm', 'b', 'r', 's']\n",
      "['o', 'f']\n",
      "['t', 'h', 'e']\n",
      "['h', 'm', 'n']\n",
      "['f', 'm', 'l', 'y']\n",
      "['i', 's']\n",
      "['t', 'h', 'e']\n",
      "['f', 'n', 'd', 't', 'n']\n",
      "['o', 'f']\n",
      "['f', 'r', 'd', 'm']\n",
      "[',']\n",
      "['j', 's', 't', 'c', 'e']\n",
      "['a', 'n', 'd']\n",
      "['p', 'c', 'e']\n",
      "['i', 'n']\n",
      "['t', 'h', 'e']\n",
      "['w', 'r', 'l', 'd']\n",
      "[',']\n",
      "['W', 'h', 'r', 's']\n",
      "['d', 's', 'r', 'g', 'r', 'd']\n",
      "['a', 'n', 'd']\n",
      "['c', 'n', 't', 'm', 'p', 't']\n",
      "['f', 'r']\n",
      "['h', 'm', 'n']\n",
      "['r', 'g', 'h', 't', 's']\n",
      "['h', 'v', 'e']\n",
      "['r', 's', 'l', 't', 'd']\n",
      "['i', 'n']\n",
      "['b', 'r', 'b', 'r', 's']\n",
      "['a', 'c', 't', 's']\n",
      "['w', 'h', 'c', 'h']\n",
      "['h', 'v', 'e']\n",
      "['ou', 't', 'r', 'g', 'd']\n",
      "['t', 'h', 'e']\n",
      "['c', 'n', 's', 'c', 'n', 'c', 'e']\n",
      "['o', 'f']\n",
      "['m', 'n', 'k', 'n', 'd']\n",
      "[',']\n",
      "['a', 'n', 'd']\n",
      "['t', 'h', 'e']\n",
      "['a', 'd', 'v', 'n', 't']\n",
      "['o', 'f']\n",
      "['a']\n",
      "['w', 'r', 'l', 'd']\n",
      "['i', 'n']\n",
      "['w', 'h', 'c', 'h']\n",
      "['h', 'm', 'n']\n",
      "['b', 'n', 'g', 's']\n",
      "['s', 'h', 'l', 'l']\n",
      "['e', 'n', 'j', 'y']\n",
      "['f', 'r', 'd', 'm']\n",
      "['o', 'f']\n",
      "['s', 'p', 'c', 'h']\n",
      "['a', 'n', 'd']\n"
     ]
    },
    {
     "data": {
      "text/plain": [
       "['Unvrsl',\n",
       " 'Dclrtn',\n",
       " 'of',\n",
       " 'Hmn',\n",
       " 'Rghts',\n",
       " 'Prmble',\n",
       " 'Whrs',\n",
       " 'rcgntn',\n",
       " 'of',\n",
       " 'the',\n",
       " 'inhrnt',\n",
       " 'dgnty',\n",
       " 'and',\n",
       " 'of',\n",
       " 'the',\n",
       " 'eql',\n",
       " 'and',\n",
       " 'inlnble',\n",
       " 'rghts',\n",
       " 'of',\n",
       " 'all',\n",
       " 'mmbrs',\n",
       " 'of',\n",
       " 'the',\n",
       " 'hmn',\n",
       " 'fmly',\n",
       " 'is',\n",
       " 'the',\n",
       " 'fndtn',\n",
       " 'of',\n",
       " 'frdm',\n",
       " ',',\n",
       " 'jstce',\n",
       " 'and',\n",
       " 'pce',\n",
       " 'in',\n",
       " 'the',\n",
       " 'wrld',\n",
       " ',',\n",
       " 'Whrs',\n",
       " 'dsrgrd',\n",
       " 'and',\n",
       " 'cntmpt',\n",
       " 'fr',\n",
       " 'hmn',\n",
       " 'rghts',\n",
       " 'hve',\n",
       " 'rsltd',\n",
       " 'in',\n",
       " 'brbrs',\n",
       " 'acts',\n",
       " 'whch',\n",
       " 'hve',\n",
       " 'outrgd',\n",
       " 'the',\n",
       " 'cnscnce',\n",
       " 'of',\n",
       " 'mnknd',\n",
       " ',',\n",
       " 'and',\n",
       " 'the',\n",
       " 'advnt',\n",
       " 'of',\n",
       " 'a',\n",
       " 'wrld',\n",
       " 'in',\n",
       " 'whch',\n",
       " 'hmn',\n",
       " 'bngs',\n",
       " 'shll',\n",
       " 'enjy',\n",
       " 'frdm',\n",
       " 'of',\n",
       " 'spch',\n",
       " 'and']"
      ]
     },
     "execution_count": 33,
     "metadata": {},
     "output_type": "execute_result"
    }
   ],
   "source": [
    "[compress(w) for w in english_udhr[:75]]"
   ]
  },
  {
   "cell_type": "markdown",
   "metadata": {},
   "source": [
    "english_udhr 리스트 안의 75번째 까지의 요소들을 돌며 compress 함수를 실행하여 그 결과를 새로운 리스트에 저장한 후 nltk.tokenwrap (토큰을 띄어쓰기 단위로 모아주는 역할) 실행\n"
   ]
  },
  {
   "cell_type": "code",
   "execution_count": 34,
   "metadata": {},
   "outputs": [
    {
     "name": "stdout",
     "output_type": "stream",
     "text": [
      "['U', 'n', 'v', 'r', 's', 'l']\n",
      "['D', 'c', 'l', 'r', 't', 'n']\n",
      "['o', 'f']\n",
      "['H', 'm', 'n']\n",
      "['R', 'g', 'h', 't', 's']\n",
      "['P', 'r', 'm', 'b', 'l', 'e']\n",
      "['W', 'h', 'r', 's']\n",
      "['r', 'c', 'g', 'n', 't', 'n']\n",
      "['o', 'f']\n",
      "['t', 'h', 'e']\n",
      "['i', 'n', 'h', 'r', 'n', 't']\n",
      "['d', 'g', 'n', 't', 'y']\n",
      "['a', 'n', 'd']\n",
      "['o', 'f']\n",
      "['t', 'h', 'e']\n",
      "['e', 'q', 'l']\n",
      "['a', 'n', 'd']\n",
      "['i', 'n', 'l', 'n', 'b', 'l', 'e']\n",
      "['r', 'g', 'h', 't', 's']\n",
      "['o', 'f']\n",
      "['a', 'l', 'l']\n",
      "['m', 'm', 'b', 'r', 's']\n",
      "['o', 'f']\n",
      "['t', 'h', 'e']\n",
      "['h', 'm', 'n']\n",
      "['f', 'm', 'l', 'y']\n",
      "['i', 's']\n",
      "['t', 'h', 'e']\n",
      "['f', 'n', 'd', 't', 'n']\n",
      "['o', 'f']\n",
      "['f', 'r', 'd', 'm']\n",
      "[',']\n",
      "['j', 's', 't', 'c', 'e']\n",
      "['a', 'n', 'd']\n",
      "['p', 'c', 'e']\n",
      "['i', 'n']\n",
      "['t', 'h', 'e']\n",
      "['w', 'r', 'l', 'd']\n",
      "[',']\n",
      "['W', 'h', 'r', 's']\n",
      "['d', 's', 'r', 'g', 'r', 'd']\n",
      "['a', 'n', 'd']\n",
      "['c', 'n', 't', 'm', 'p', 't']\n",
      "['f', 'r']\n",
      "['h', 'm', 'n']\n",
      "['r', 'g', 'h', 't', 's']\n",
      "['h', 'v', 'e']\n",
      "['r', 's', 'l', 't', 'd']\n",
      "['i', 'n']\n",
      "['b', 'r', 'b', 'r', 's']\n",
      "['a', 'c', 't', 's']\n",
      "['w', 'h', 'c', 'h']\n",
      "['h', 'v', 'e']\n",
      "['ou', 't', 'r', 'g', 'd']\n",
      "['t', 'h', 'e']\n",
      "['c', 'n', 's', 'c', 'n', 'c', 'e']\n",
      "['o', 'f']\n",
      "['m', 'n', 'k', 'n', 'd']\n",
      "[',']\n",
      "['a', 'n', 'd']\n",
      "['t', 'h', 'e']\n",
      "['a', 'd', 'v', 'n', 't']\n",
      "['o', 'f']\n",
      "['a']\n",
      "['w', 'r', 'l', 'd']\n",
      "['i', 'n']\n",
      "['w', 'h', 'c', 'h']\n",
      "['h', 'm', 'n']\n",
      "['b', 'n', 'g', 's']\n",
      "['s', 'h', 'l', 'l']\n",
      "['e', 'n', 'j', 'y']\n",
      "['f', 'r', 'd', 'm']\n",
      "['o', 'f']\n",
      "['s', 'p', 'c', 'h']\n",
      "['a', 'n', 'd']\n",
      "Unvrsl Dclrtn of Hmn Rghts Prmble Whrs rcgntn of the inhrnt dgnty and\n",
      "of the eql and inlnble rghts of all mmbrs of the hmn fmly is the fndtn\n",
      "of frdm , jstce and pce in the wrld , Whrs dsrgrd and cntmpt fr hmn\n",
      "rghts hve rsltd in brbrs acts whch hve outrgd the cnscnce of mnknd ,\n",
      "and the advnt of a wrld in whch hmn bngs shll enjy frdm of spch and\n"
     ]
    }
   ],
   "source": [
    "print(nltk.tokenwrap(compress(w) for w in english_udhr[:75]))"
   ]
  },
  {
   "cell_type": "markdown",
   "metadata": {},
   "source": [
    "rotokas.dic 코퍼스에서 단어들을 나눠 리스트로 만든 rotokas_words\n",
    "\n",
    "그 리스트를 하나씩 돌며 ptksvr중 하나와 모음중 하나로 이루어진 두 글자의 문자열 찾아 cvs라는 리스트에 추가"
   ]
  },
  {
   "cell_type": "code",
   "execution_count": 35,
   "metadata": {},
   "outputs": [
    {
     "name": "stdout",
     "output_type": "stream",
     "text": [
      "rotokas_words :  ['kaa', 'kaa', 'kaa', 'kaakaaro', 'kaakaaviko', 'kaakaavo', 'kaakaoko', 'kaakasi', 'kaakau', 'kaakauko']\n",
      "first 10 elements of cvs :  ['ka', 'ka', 'ka', 'ka', 'ka', 'ro', 'ka', 'ka', 'vi', 'ko']\n"
     ]
    }
   ],
   "source": [
    "rotokas_words = nltk.corpus.toolbox.words('rotokas.dic')\n",
    "print(\"rotokas_words : \", rotokas_words[:10])\n",
    "cvs = [cv for w in rotokas_words for cv in re.findall(r'[ptksvr][aeiou]', w)]\n",
    "print(\"first 10 elements of cvs : \", cvs[:10])"
   ]
  },
  {
   "cell_type": "markdown",
   "metadata": {},
   "source": [
    "cvs 안의 요소들 확인 위해 set()\n",
    "\n",
    "결과는 27개로 6*5=30개의 경우의 수 중 3개는 등장하지 않았음을 알 수 있음"
   ]
  },
  {
   "cell_type": "code",
   "execution_count": 36,
   "metadata": {},
   "outputs": [
    {
     "name": "stdout",
     "output_type": "stream",
     "text": [
      "{'ki', 'pi', 'to', 've', 'ru', 'ta', 'vo', 'ke', 'ku', 'va', 'ro', 'ri', 'ra', 'ka', 'tu', 'pa', 'ko', 'po', 'vi', 'si', 'so', 're', 'pu', 'te', 'vu', 'su', 'pe'}\n",
      "total :  27\n"
     ]
    }
   ],
   "source": [
    "test_set = set(cvs)\n",
    "print(test_set)\n",
    "print(\"total : \", len(test_set))"
   ]
  },
  {
   "cell_type": "markdown",
   "metadata": {},
   "source": [
    "k,p,r,s,t,v 와 a,e,i,o,u 가 합쳐진 경우의 수를 센 결과를 ConditionalFreqDist를 통해 알 수 있고 tabulate()를 통해 표로 반환"
   ]
  },
  {
   "cell_type": "code",
   "execution_count": 37,
   "metadata": {},
   "outputs": [
    {
     "name": "stdout",
     "output_type": "stream",
     "text": [
      "    a   e   i   o   u \n",
      "k 418 148  94 420 173 \n",
      "p  83  31 105  34  51 \n",
      "r 187  63  84  89  79 \n",
      "s   0   0 100   2   1 \n",
      "t  47   8   0 148  37 \n",
      "v  93  27 105  48  49 \n"
     ]
    }
   ],
   "source": [
    "cfd = nltk.ConditionalFreqDist(cvs) # CFD works pairwise only\n",
    "cfd.tabulate()"
   ]
  },
  {
   "cell_type": "markdown",
   "metadata": {},
   "source": [
    "rotokas_words 리스트를 하나씩 돌며 Ptksvr중 하나와 모음중 하나로 이루어진 두 글자의 문자열을 찾아 cv로 받고 rotokas_words 요소를 w 로 받아 튜플로 묶어 cv_word_pairs 리스트에 추가\n",
    "\n",
    "cv로 받은 문자열을 사전의 key, w는 value 값으로 받아 분류해주는 Index()"
   ]
  },
  {
   "cell_type": "code",
   "execution_count": 38,
   "metadata": {},
   "outputs": [
    {
     "name": "stdout",
     "output_type": "stream",
     "text": [
      "Index(<class 'list'>, {'ka': ['kaa', 'kaa', 'kaa', 'kaakaaro', 'kaakaaro', 'kaakaaviko', 'kaakaaviko', 'kaakaavo', 'kaakaavo', 'kaakaoko', 'kaakaoko', 'kaakasi', 'kaakasi', 'kaakau', 'kaakau', 'kaakauko', 'kaakauko', 'kaakito', 'kaakuupato', 'kaaova', 'kaapa', 'kaapea', 'kaapie', 'kaapie', 'kaapiepato', 'kaapisi', 'kaapisivira', 'kaapo', 'kaapopato', 'kaara', 'kaare', 'kaareko', 'kaarekopie', 'kaareto', 'kaava', 'kaavaaua', 'kaaveaka', 'kaaveaka', 'kaaveakapie', 'kaaveakapie', 'kaaveakapievira', 'kaaveakapievira', 'kaaveakavira', 'kaaveakavira', 'kae', 'kae', 'kaekae', 'kaekae', 'kaekae', 'kaekae', 'kaekaearo', 'kaekaearo', 'kaekaeo', 'kaekaeo', 'kaekaesoto', 'kaekaesoto', 'kaekaevira', 'kaekaevira', 'kaekeru', 'kaepaa', 'kaepie', 'kaepie', 'kaepievira', 'kaereasi', 'kaereasivira', 'kaetu', 'kaetupie', 'kaetuvira', 'kaeviro', 'kagave', 'kaie', 'kaiea', 'kaikaio', 'kaikaio', 'kaipori', 'kaiporipie', 'kaiporivira', 'kairi', 'kairiro', 'kairo', 'kaita', 'kaitutu', 'kaitutupie', 'kaitutuvira', 'kakae', 'kakae', 'kakae', 'kakae', 'kakae', 'kakae', 'kakaevira', 'kakaevira', 'kakapikoa', 'kakapikoa', 'kakapikoto', 'kakapikoto', 'kakapu', 'kakapu', 'kakapua', 'kakapua', 'kakara', 'kakara', 'Kakarapaia', 'kakarau', 'kakarau', 'Kakarera', 'kakata', 'kakata', 'kakate', 'kakate', 'kakatuara', 'kakatuara', 'kakau', 'kakau', 'kakauoa', 'kakauoa', 'kakavea', 'kakavea', 'kakavoro', 'kakavoro', 'kakavu', 'kakavu', 'kakeoto', 'kaki', 'kaki', 'kakiaki', 'kakiri', 'kakiua', 'kaku', 'kakua', 'kakuaku', 'kakupaa', 'kakuparei', 'kakupato', 'kakupie', 'kakupute', 'kakutauo', 'kakuto', 'kakutuiato', 'kakuva', 'kakuvira', 'kameoro', 'kandora', 'kaokao', 'kaokao', 'kaokaoara', 'kaokaoara', 'kaokaoto', 'kaokaoto', 'kapa', 'kapa', 'kapaava', 'kapai', 'kapara', 'kaparu', 'kaparuvira', 'kapatau', 'kapatoro', 'kapatoroto', 'kape', 'kapeaa', 'kapeaa', 'kapeaavira', 'kapekape', 'kapekape', 'kapekapevira', 'kapekapevira', 'kapere', 'kaperepie', 'kapi', 'kapiaa', 'kapiaavira', 'kapikapi', 'kapikapi', 'kapiro', 'kapiroa', 'kapiroko', 'kapisi', 'kapisito', 'kapiu', 'kapiua', 'kapo', 'kapoa', 'kapokao', 'kapokao', 'kapokapo', 'kapokapo', 'kapokapoa', 'kapokapoa', 'kapokapora', 'kapokapora', 'kapokaporo', 'kapokaporo', 'kapokari', 'kapokari', 'kapokarito', 'kapokarito', 'kapokoa', 'kapoo', 'kapooto', 'kapoovira', 'kapopaa', 'kaporo', 'kaporo', 'kaporopa', 'kaporoto', 'kapoto', 'kapu', 'kapua', 'kapua', 'kapuapato', 'kapuapie', 'kapuasisi', 'kapupie', 'kapupiea', 'kapupiepaa', 'kapuu', 'kapuupie', 'kapuupiepa', 'kara', 'karaava', 'karakarao', 'karakarao', 'karakaraoa', 'karakaraoa', 'karakaraoto', 'karakaraoto', 'karakaraovira', 'karakaraovira', 'karakaroto', 'karakaroto', 'karakuku', 'karaova', 'karapi', 'karapivira', 'karara', 'karata', 'karato', 'karavau', 'karavisi', 'karavisito', 'karavuru', 'kare', 'kare', 'karekare', 'karekare', 'karekare', 'karekare', 'karekarererava', 'karekarererava', 'karekareto', 'karekareto', 'kareke', 'karekepie', 'karekova', 'kareo', 'kareovira', 'karepie', 'karepieto', 'kari', 'karia', 'kariava', 'karikari', 'karikari', 'karirapa', 'karisito', 'karivai', 'karivaito', 'karivara', 'karo', 'karokaropo', 'karokaropo', 'karopato', 'karopo', 'karot', 'karoto', 'karova', 'karu', 'karuka', 'karuka', 'karukaru', 'karukaru', 'karukava', 'karukava', 'karutu', 'karuvira', 'kasi', 'kasi', 'kasi', 'kasiarao', 'kasiava', 'kasikasi', 'kasikasi', 'Kasikasiua', 'kasipie', 'kasipu', 'kasipupie', 'kasipuvira', 'kasirao', 'kasiraopie', 'kasiraovira', 'kasiu', 'kasiura', 'kasivari', 'kasuari', 'kata', 'katai', 'kataitoarei', 'katakatai', 'katakatai', 'katakataivira', 'katakataivira', 'kataraua', 'katarauto', 'katavira', 'katokato', 'katokato', 'katokatoto', 'katokatoto', 'katokatovira', 'katokatovira', 'katokoi', 'katopato', 'katoto', 'katuara', 'katuarato', 'katukatu', 'katukatu', 'katuta', 'kau', 'kaukau', 'kaukau', 'kaukaupie', 'kaukaupie', 'kaukauvira', 'kaukauvira', 'kaukovo', 'kauo', 'kauokauo', 'kauokauo', 'kaureo', 'kaureoto', 'kausiopa', 'kausiovira', 'kavakavau', 'kavakavau', 'kavatao', 'kavau', 'kavau', 'kavau asiava', 'kave', 'kavee', 'kaveepaa', 'kaverui', 'kaveruko', 'kavesi', 'kavikavi', 'kavikavi', 'kavikaviru', 'kavikaviru', 'kavikaviru', 'kavikaviru', 'kaviko', 'kavikoa', 'kaviru', 'kaviru', 'kaviruto', 'kaviruvira', 'kavo', 'kavokavo', 'kavokavo', 'kavokavoa', 'kavokavoa', 'kavokavoto', 'kavokavoto', 'kavora', 'kavorato', 'kavori', 'kavori', 'kavorou', 'kavovoa', 'kavovovira', 'kavu', 'kavu', 'kavuava', 'kavupie', 'kavura', 'kavurao', 'kavusi', 'kavuvo', 'keoka', 'Kereaka', 'Keriaka', 'ketaka', 'ketakaa', 'kiikariko', 'kikisikae', 'kirikaokao', 'kirikaokao', 'koka', 'kokai', 'kokara', 'kokaraa', 'kokarapato', 'kookaa', 'kookai', 'kopakai', 'kopakava', 'kopikao', 'korekare', 'kovuaka', 'kuka', 'kukara', 'kukauviro', 'kurikaakaakuto', 'kurikaakaakuto', 'kurikasi', 'kurikasivira'], 'ro': ['kaakaaro', 'kaekaearo', 'kaeviro', 'kairiro', 'kairo', 'kakavoro', 'kameoro', 'kapatoro', 'kapatoroto', 'kapiro', 'kapiroa', 'kapiroko', 'kapokaporo', 'kaporo', 'kaporo', 'kaporopa', 'kaporoto', 'karakaroto', 'karo', 'karokaropo', 'karokaropo', 'karopato', 'karopo', 'karot', 'karoto', 'karova', 'kavorou', 'kepiro', 'keroroi', 'keroroi', 'kerosiri', 'ketoroa', 'kiro', 'kirokiro', 'kirokiro', 'kirokiro', 'kirokiro', 'kirokiropato', 'kirokiropato', 'kiroko', 'kokoro', 'kokoroki', 'kokoroku', 'kokorokupie', 'kokoropato', 'kokorosi', 'kokorovira', 'kooroo', 'koorooto', 'koorooto', 'kooroovira', 'kopirovu', 'kopuro', 'kopuvioro', 'koro', 'kororo', 'kororo', 'kororo', 'kororo', 'kororoisivira', 'kororoisivira', 'kororovi', 'kororovi', 'kororovivira', 'kororovivira', 'kororu', 'kororupie', 'koroto', 'koroviri', 'korovo', 'kosiviro', 'kovaaro', 'kovikoro', 'kovuaro', 'kukauviro', 'kupero', 'kuperoo', 'kuperovira', 'kuroa', 'kuroea', 'kurokuro', 'kurokuro', 'kurokuroto', 'kurokuroto', 'kuroo', 'kurooro', 'kurooro', 'kurovira', 'kuvoro'], 'vi': ['kaakaaviko', 'kaapisivira', 'kaaveakapievira', 'kaaveakavira', 'kaekaevira', 'kaepievira', 'kaereasivira', 'kaetuvira', 'kaeviro', 'kaiporivira', 'kaitutuvira', 'kakaevira', 'kakuvira', 'kaparuvira', 'kapeaavira', 'kapekapevira', 'kapiaavira', 'kapoovira', 'karakaraovira', 'karapivira', 'karavisi', 'karavisito', 'kareovira', 'karuvira', 'kasipuvira', 'kasiraovira', 'katakataivira', 'katavira', 'katokatovira', 'kaukauvira', 'kausiovira', 'kavikavi', 'kavikavi', 'kavikaviru', 'kavikaviru', 'kavikaviru', 'kavikaviru', 'kaviko', 'kavikoa', 'kaviru', 'kaviru', 'kaviruto', 'kaviruvira', 'kaviruvira', 'kavovovira', 'keavira', 'keevuruvira', 'kekeputuvira', 'kekeraokovira', 'kekevotovira', 'keovira', 'keravisi', 'keravisia', 'kerisivira', 'keruriavira', 'kesievira', 'kesivira', 'kevira', 'kevisi', 'kevoisivira', 'kipuvira', 'koetavira', 'koikevira', 'koivira', 'kokivira', 'kokopekovira', 'kokopuovira', 'kokopuvira', 'kokorivira', 'kokorovira', 'kokovaravira', 'kookuvira', 'kooroovira', 'kopakovira', 'kopuasitovira', 'kopuasivira', 'kopuvioro', 'kopuvira', 'korauvira', 'kororoisivira', 'kororovi', 'kororovivira', 'kororovivira', 'koroviri', 'koruovira', 'korupievira', 'kosiviro', 'kotovira', 'kovatavira', 'Kovia', 'kovikoro', 'kovire', 'kovirea', 'kovukovuvira', 'kovurukovira', 'kovuruvira', 'kukauviro', 'kukuvita', 'kuperovira', 'kurikasivira', 'kurovira', 'kuuvavira', 'kuuvuvira', 'kuvauvira', 'kuverevira'], 'ko': ['kaakaaviko', 'kaakaoko', 'kaakauko', 'kaareko', 'kaarekopie', 'kakapikoa', 'kakapikoto', 'kapiroko', 'kapokoa', 'karekova', 'katokoi', 'kaukovo', 'kaveruko', 'kaviko', 'kavikoa', 'kekeraokovira', 'kepiko', 'kepiriko', 'kerekoi', 'kiikariko', 'kikiraeko', 'kikoo', 'kiroko', 'koa', 'koai', 'koakoa', 'koakoa', 'koakoa', 'koakoa', 'koara', 'koarao', 'koaraua', 'koarava', 'koasio', 'koata', 'koatapie', 'koauve', 'koavaato', 'koe', 'koea', 'koekoe', 'koekoe', 'koekoeto', 'koekoeto', 'koepato', 'koeta', 'koetaova', 'koetapie', 'koetava', 'koetavira', 'koeto', 'kogo', 'kogova', 'koi', 'koie', 'koie', 'koike', 'koiketo', 'koikevira', 'koikoi', 'koikoi', 'koikoipato', 'koikoipato', 'koikoipie', 'koikoipie', 'koikoito', 'koikoito', 'koisi', 'koisiva', 'koivira', 'koka', 'kokai', 'kokara', 'kokaraa', 'kokarapato', 'koke', 'kokee', 'kokepato', 'kokepato', 'kokepie', 'kokerao', 'kokeriva', 'kokeu', 'kokeva', 'koki', 'kokio', 'kokito', 'kokivira', 'koko', 'koko', 'koko', 'koko', 'kokoi', 'kokoi', 'kokoisi', 'kokoisi', 'kokokoru', 'kokokoru', 'kokokoru', 'kokoo', 'kokoo', 'kokooko', 'kokooko', 'kokooko', 'kokookoa', 'kokookoa', 'kokookoa', 'kokoote', 'kokoote', 'kokootu', 'kokootu', 'kokopa', 'kokopa', 'kokopakou', 'kokopakou', 'kokopakou', 'kokopeko', 'kokopeko', 'kokopeko', 'kokopekovira', 'kokopekovira', 'kokopekovira', 'kokopeoto', 'kokopeoto', 'kokopuoto', 'kokopuoto', 'kokopuovira', 'kokopuovira', 'Kokopuru', 'kokopuvira', 'kokopuvira', 'kokora', 'kokora', 'kokorai', 'kokorai', 'kokorato', 'kokorato', 'kokori', 'kokori', 'kokorivira', 'kokorivira', 'kokoro', 'kokoro', 'kokoroki', 'kokoroki', 'kokoroku', 'kokoroku', 'kokorokupie', 'kokorokupie', 'kokoropato', 'kokoropato', 'kokorosi', 'kokorosi', 'kokorovira', 'kokorovira', 'kokoru', 'kokoru', 'kokoruu', 'kokoruu', 'kokoruu', 'kokoruu', 'kokosi', 'kokosi', 'kokosi', 'kokosi', 'Kokosiria', 'kokosito', 'kokosito', 'kokosiva', 'kokosiva', 'kokotagoe', 'kokotagoe', 'kokote', 'kokote', 'kokoto', 'kokoto', 'kokotu', 'kokotu', 'kokotua', 'kokotua', 'kokotuo', 'kokotuo', 'kokovae', 'kokovae', 'kokovaeva', 'kokovaeva', 'kokovara', 'kokovara', 'kokovara', 'kokovara', 'kokovaravira', 'kokovaravira', 'kokovu', 'kokovu', 'kokovua', 'kokovua', 'kokovua', 'kokovua', 'kokovua', 'kokovua', 'kokovupaparie', 'kokovupaparie', 'kokovurito', 'kokovurito', 'koku', 'kokuoku', 'kokureko', 'kokureko', 'kokuuto', 'kooe', 'kookaa', 'kookai', 'kookoo', 'kookoo', 'kookooia', 'kookooia', 'kookoopeko', 'kookoopeko', 'kookoopeko', 'kookoopi', 'kookoopi', 'kooku', 'kookuto', 'kookuvira', 'koopi', 'koopipi', 'koora', 'kooroo', 'koorooto', 'koorooto', 'kooroovira', 'kooru', 'koota', 'kootopa', 'kootutu', 'koou', 'kooupato', 'koova', 'koova', 'koovoto', 'koovotova', 'kopa', 'kopakai', 'kopakava', 'kopakopa', 'kopakopa', 'kopakovira', 'kopakovira', 'kopato', 'kopii', 'kopiia', 'kopiipato', 'kopiipie', 'kopiito', 'kopikao', 'kopikopi', 'kopikopi', 'kopikopiara', 'kopikopiara', 'kopipi', 'kopirovu', 'kopu', 'kopua', 'kopuasi', 'kopuasipie', 'kopuasito', 'kopuasitovira', 'kopuasivira', 'kopukopu', 'kopukopu', 'kopukopua', 'kopukopua', 'kopupa', 'kopupira', 'kopuro', 'kopuvioro', 'kopuvira', 'kora', 'korapato', 'korara', 'koraraoko', 'koraraoko', 'korau', 'koraua', 'korauru', 'korauvira', 'korea', 'korekare', 'korereto', 'kori', 'koria', 'korikori', 'korikori', 'korikoripava', 'korikoripava', 'korita', 'korita', 'koriteira', 'koro', 'kororo', 'kororo', 'kororoisivira', 'kororovi', 'kororovivira', 'kororu', 'kororupie', 'koroto', 'koroviri', 'korovo', 'koru', 'Koruko', 'korukoru', 'korukoru', 'korukorupato', 'korukorupato', 'koruo', 'koruoto', 'koruou', 'koruoua', 'koruovira', 'korupie', 'korupievira', 'kosi', 'kosikosi', 'kosikosi', 'kosikosi', 'kosikosi', 'kosipa', 'kosipato', 'kosipie', 'kosivago', 'kosiviro', 'koto', 'kotokoto', 'kotokoto', 'kotokotoara', 'kotokotoara', 'kotopa', 'kotopa', 'kotovira', 'kotu', 'kotukotu', 'kotukotu', 'kotupiua', 'koturu', 'kou', 'kou', 'koue', 'koue', 'koui', 'koukou', 'koukou', 'koukouo', 'koukouo', 'koukouo', 'koukouo', 'kova', 'kovaaro', 'kovaeto', 'kovaii', 'kovakovara', 'kovakovara', 'kovapato', 'kovarato', 'kovarua', 'kovasi', 'kovata', 'kovatavira', 'kovato', 'kovauke', 'kove', 'kove', 'kovea', 'kovekove', 'kovekove', 'koveoapa', 'koveva', 'kovikoro', 'kovikoro', 'kovire', 'kovirea', 'kovo', 'kovo', 'kovo', 'kovoa', 'kovokovo', 'kovokovo', 'kovokovo', 'kovokovo', 'kovokovo', 'kovokovo', 'kovokovoa', 'kovokovoa', 'kovopaa', 'kovopato', 'kovopie', 'kovoruko', 'kovoruko', 'kovoto', 'kovovo', 'kovuaka', 'kovuaro', 'kovukovu', 'kovukovu', 'kovukovuto', 'kovukovuto', 'kovukovuvira', 'kovukovuvira', 'kovuru', 'kovurui', 'kovuruko', 'kovuruko', 'kovurukovira', 'kovurukovira', 'kovuruvira', 'kovuto', 'kukuriko', 'kukurikoto', 'kurikoko', 'kurikoko'], 'vo': ['kaakaavo', 'kakavoro', 'kaukovo', 'kavo', 'kavokavo', 'kavokavo', 'kavokavoa', 'kavokavoa', 'kavokavoto', 'kavokavoto', 'kavora', 'kavorato', 'kavori', 'kavori', 'kavorou', 'kavovoa', 'kavovoa', 'kavovovira', 'kavovovira', 'kavuvo', 'kekevoto', 'kekevotovira', 'keravo', 'kevoisi', 'kevoisivira', 'koovoto', 'koovotova', 'korovo', 'kovo', 'kovo', 'kovo', 'kovoa', 'kovokovo', 'kovokovo', 'kovokovo', 'kovokovo', 'kovokovo', 'kovokovo', 'kovokovoa', 'kovokovoa', 'kovopaa', 'kovopato', 'kovopie', 'kovoruko', 'kovoto', 'kovovo', 'kovovo', 'kuvoro'], 'si': ['kaakasi', 'kaapisi', 'kaapisivira', 'kaereasi', 'kaereasivira', 'kapisi', 'kapisito', 'kapuasisi', 'kapuasisi', 'karavisi', 'karavisito', 'karisito', 'kasi', 'kasi', 'kasi', 'kasiarao', 'kasiava', 'kasikasi', 'kasikasi', 'Kasikasiua', 'Kasikasiua', 'kasipie', 'kasipu', 'kasipupie', 'kasipuvira', 'kasirao', 'kasiraopie', 'kasiraovira', 'kasiu', 'kasiura', 'kasivari', 'kausiopa', 'kausiovira', 'kavau asiava', 'kavesi', 'kavusi', 'keesi', 'kepisi', 'kepisiva', 'keposi', 'keravisi', 'keravisia', 'kerikerisi', 'kerisi', 'kerisito', 'kerisivira', 'kerosiri', 'kesi', 'kesie', 'kesievira', 'kesikea vaaguru', 'kesio', 'kesioto', 'kesivira', 'kevisi', 'kevoisi', 'kevoisivira', 'kikipisi', 'kikisi', 'kikisikae', 'kikisiova', 'kikitausi', 'koasio', 'koisi', 'koisiva', 'kokoisi', 'kokorosi', 'kokosi', 'kokosi', 'Kokosiria', 'kokosito', 'kokosiva', 'kopuasi', 'kopuasipie', 'kopuasito', 'kopuasitovira', 'kopuasivira', 'Kopuisi', 'kororoisivira', 'kosi', 'kosikosi', 'kosikosi', 'kosikosi', 'kosikosi', 'kosipa', 'kosipato', 'kosipie', 'kosivago', 'kosiviro', 'kovasi', 'kuiopesi', 'kukusiri', 'kurasia', 'kurasia', 'kurikasi', 'kurikasivira', 'Kusi', 'kusii', 'kusike', 'kusito'], 'ki': ['kaakito', 'kaki', 'kaki', 'kakiaki', 'kakiaki', 'kakiri', 'kakiua', 'kekira', 'kie', 'kii', 'kiikariko', 'kiipie', 'kiire', 'kiire', 'kiiru', 'kiiuto', 'kiki', 'kiki', 'kiki', 'kiki', 'kikipi', 'kikipi', 'kikipisi', 'kikipisi', 'kikira', 'kikira', 'kikiraeko', 'kikiraeko', 'kikisi', 'kikisi', 'kikisikae', 'kikisikae', 'kikisiova', 'kikisiova', 'kikitausi', 'kikitausi', 'kikoo', 'kilia', 'kio', 'kipa', 'kipapie', 'kipe', 'kipekipe', 'kipekipe', 'kipekipea', 'kipekipea', 'kipeto', 'kipu', 'kipukipu', 'kipukipu', 'kipupaa', 'kipupato', 'kipuvira', 'kira', 'kirava', 'kire', 'kiri', 'kirikaokao', 'kirioto', 'kiro', 'kirokiro', 'kirokiro', 'kirokiro', 'kirokiro', 'kirokiropato', 'kirokiropato', 'kiroko', 'kiru', 'kirukiru', 'kirukiru', 'kirukirua', 'kirukirua', 'kirupato', 'kitoiva', 'kitu', 'kitukitu', 'kitukitu', 'kiu', 'kiupie', 'kiuto', 'kiuve', 'kiuvu', 'koki', 'kokio', 'Kokipaia', 'kokito', 'kokivira', 'kokoroki', 'kukiuki', 'kukiuki', 'kukiukia', 'kukiukia', 'kuuvaki', 'kuuvakito'], 'to': ['kaakito', 'kaakuupato', 'kaapiepato', 'kaapopato', 'kaareto', 'kaekaesoto', 'kakapikoto', 'kakeoto', 'kakupato', 'kakuto', 'kakutuiato', 'kaokaoto', 'kapatoro', 'kapatoroto', 'kapatoroto', 'kapisito', 'kapokarito', 'kapooto', 'kaporoto', 'kapoto', 'kapuapato', 'karakaraoto', 'karakaroto', 'karato', 'karavisito', 'karekareto', 'karepieto', 'karisito', 'karivaito', 'karopato', 'karoto', 'kataitoarei', 'katarauto', 'katokato', 'katokato', 'katokatoto', 'katokatoto', 'katokatoto', 'katokatovira', 'katokatovira', 'katokoi', 'katopato', 'katopato', 'katoto', 'katoto', 'katuarato', 'kaureoto', 'kaviruto', 'kavokavoto', 'kavorato', 'keakeato', 'kearito', 'keekeerito', 'kekevoto', 'kekevotovira', 'kepa toupato', 'kepa toupato', 'kepito', 'kepoto', 'kerauto', 'keripato', 'kerisito', 'keruiato', 'keruito', 'keruriato', 'kesioto', 'ketato', 'ketoo', 'ketoo', 'ketoopie', 'ketoopieara', 'ketoroa', 'kevaitato', 'kiiuto', 'kipeto', 'kipupato', 'kirioto', 'kirokiropato', 'kirupato', 'kitoiva', 'kiuto', 'koavaato', 'koekoeto', 'koepato', 'koeto', 'koiketo', 'koikoipato', 'koikoito', 'kokarapato', 'kokepato', 'kokepato', 'kokito', 'kokopeoto', 'kokopuoto', 'kokorato', 'kokoropato', 'kokosito', 'kokoto', 'kokovurito', 'kokuuto', 'kookuto', 'koorooto', 'koorooto', 'kootopa', 'kooupato', 'koovoto', 'koovotova', 'kopato', 'kopiipato', 'kopiito', 'kopuasito', 'kopuasitovira', 'korapato', 'korereto', 'koroto', 'korukorupato', 'koruoto', 'kosipato', 'koto', 'kotokoto', 'kotokoto', 'kotokotoara', 'kotokotoara', 'kotopa', 'kotopa', 'kotovira', 'kovaeto', 'kovapato', 'kovarato', 'kovato', 'kovopato', 'kovoto', 'kovukovuto', 'kovuto', 'kuito', 'kukurikoto', 'kupareto', 'kuriato', 'kurikaakaakuto', 'kurokuroto', 'kusito', 'kuukuuvuto', 'kuuvakito', 'kuuvato', 'kuvato', 'kuvereto', 'kuvupato', 'kuvuto'], 'ku': ['kaakuupato', 'kaku', 'kakua', 'kakuaku', 'kakuaku', 'kakupaa', 'kakuparei', 'kakupato', 'kakupie', 'kakupute', 'kakutauo', 'kakuto', 'kakutuiato', 'kakuva', 'kakuvira', 'karakuku', 'karakuku', 'kokoroku', 'kokorokupie', 'koku', 'kokuoku', 'kokuoku', 'kokureko', 'kokuuto', 'kooku', 'kookuto', 'kookuvira', 'kuara', 'kue', 'kuea', 'kuga', 'kui', 'kuio', 'kuioi', 'kuiopesi', 'kuiopetu', 'kuito', 'kuka', 'kukara', 'kukauviro', 'kukiuki', 'kukiukia', 'kuku', 'kuku', 'kukua', 'kukua', 'kukuaua', 'kukuaua', 'kukue', 'kukue', 'kukue pute', 'kukue pute', 'kukuepaa', 'kukuepaa', 'kukuku', 'kukuku', 'kukuku', 'kukupira', 'kukupira', 'kukuriko', 'kukuriko', 'kukurikoto', 'kukurikoto', 'kukusiri', 'kukusiri', 'kukutauvu', 'kukutauvu', 'kukutu', 'kukutu', 'kukuuku', 'kukuuku', 'kukuuku', 'kukuukua', 'kukuukua', 'kukuukua', 'kukuukupie', 'kukuukupie', 'kukuukupie', 'kukuuvua', 'kukuuvua', 'kukuvai', 'kukuvai', 'kukuvaipaa', 'kukuvaipaa', 'kukuvita', 'kukuvita', 'kukuvua', 'kukuvua', 'Kuokuo', 'kupare', 'kupareto', 'kupekupe', 'kupekupe', 'kupekupepa', 'kupekupepa', 'kupero', 'kuperoo', 'kuperovira', 'kupii', 'kupukupu', 'kupukupu', 'kurae', 'kurasia', 'kurasia', 'kurei', 'kuri', 'kuriato', 'kurikaakaakuto', 'kurikaakaakuto', 'kurikasi', 'kurikasivira', 'kurikoko', 'kurikuri', 'kurikuri', 'kuripaa', 'kuritava', 'kuroa', 'kuroea', 'kurokuro', 'kurokuro', 'kurokuroto', 'kurokuroto', 'kuroo', 'kurooro', 'kurovira', 'kuru', 'kurue', 'kurupi', 'kururai', 'kururu', 'kurutu', 'kusii', 'kusike', 'kusito', 'kuu', 'kuu', 'kuukuuvu', 'kuukuuvu', 'kuukuuvuto', 'kuukuuvuto', 'kuuoa', 'kuupie', 'kuurea', 'kuuri', 'kuuva', 'kuuvaki', 'kuuvakito', 'kuuvato', 'kuuvavira', 'kuuvu', 'kuuvuvira', 'kuva', 'kuvaku', 'kuvaku', 'kuvato', 'kuvau', 'kuvaupie', 'kuvauvira', 'kuvera', 'kuverava', 'kuvere', 'kuverea', 'kuvereto', 'kuverevira', 'kuvoro', 'kuvu', 'kuvuara', 'kuvukuvu', 'kuvukuvu', 'kuvukuvua', 'kuvukuvua', 'kuvupato', 'kuvuto'], 'pa': ['kaakuupato', 'kaapa', 'kaapiepato', 'kaapopato', 'kaepaa', 'Kakarapaia', 'kakupaa', 'kakuparei', 'kakupato', 'kapa', 'kapa', 'kapaava', 'kapai', 'kapara', 'kaparu', 'kaparuvira', 'kapatau', 'kapatoro', 'kapatoroto', 'kapopaa', 'kaporopa', 'kapuapato', 'kapupiepaa', 'kapuupiepa', 'karirapa', 'karopato', 'katopato', 'kausiopa', 'kaveepaa', 'keekeepa', 'kekesopa', 'keopa', 'kepa', 'kepa toupato', 'kepa toupato', 'keripaara', 'keripato', 'kipa', 'kipapie', 'kipupaa', 'kipupato', 'kirokiropato', 'kirupato', 'koepato', 'koikoipato', 'kokarapato', 'kokepato', 'kokepato', 'Kokipaia', 'kokopa', 'kokopakou', 'kokoropato', 'kokovupaparie', 'kokovupaparie', 'kootopa', 'kooupato', 'kopa', 'kopakai', 'kopakava', 'kopakopa', 'kopakopa', 'kopakovira', 'kopato', 'kopiipato', 'kopupa', 'korapato', 'korikoripava', 'korukorupato', 'kosipa', 'kosipato', 'kotopa', 'kotopa', 'kovapato', 'koveoapa', 'kovopaa', 'kovopato', 'kukuepaa', 'kukuvaipaa', 'kupare', 'kupareto', 'kupekupepa', 'kuripaa', 'kuvupato'], 'va': ['kaaova', 'Kaareva', 'kaava', 'kaavaaua', 'kakuva', 'kapaava', 'karaava', 'karaova', 'karavau', 'karekarererava', 'karekova', 'kariava', 'karivai', 'karivaito', 'karivara', 'karova', 'karukava', 'kasiava', 'kasivari', 'Kava', 'kavakavau', 'kavakavau', 'kavatao', 'Kavatara', 'kavau', 'kavau', 'kavau asiava', 'kavau asiava', 'kavuava', 'keeriva', 'kepisiva', 'Kerevaru', 'keriva', 'kesikea vaaguru', 'kevaita', 'kevaita', 'kevaitato', 'kikisiova', 'kirava', 'kitoiva', 'koarava', 'koavaato', 'koetaova', 'koetava', 'kogova', 'koisiva', 'kokeriva', 'kokeva', 'kokosiva', 'kokovae', 'kokovaeva', 'kokovaeva', 'kokovara', 'kokovara', 'kokovaravira', 'koova', 'koova', 'koovotova', 'kopakava', 'korikoripava', 'kosivago', 'kova', 'kovaaro', 'kovaeto', 'kovaii', 'kovakovara', 'kovakovara', 'kovapato', 'kovarato', 'kovarua', 'kovasi', 'kovata', 'kovatavira', 'kovato', 'kovauke', 'Kovava', 'Kovava', 'koveva', 'kukuvai', 'kukuvaipaa', 'kuritava', 'kuuva', 'kuuvaki', 'kuuvakito', 'kuuvato', 'kuuvavira', 'kuva', 'kuvaku', 'kuvato', 'kuvau', 'kuvaupie', 'kuvauvira', 'kuverava'], 'pe': ['kaapea', 'kape', 'kapeaa', 'kapeaa', 'kapeaavira', 'kapekape', 'kapekape', 'kapekapevira', 'kapekapevira', 'kapere', 'kaperepie', 'kepetai', 'kipe', 'kipekipe', 'kipekipe', 'kipekipea', 'kipekipea', 'kipeto', 'kokopeko', 'kokopekovira', 'kokopeoto', 'kookoopeko', 'kuiopesi', 'kuiopetu', 'kupekupe', 'kupekupe', 'kupekupepa', 'kupekupepa', 'kupero', 'kuperoo', 'kuperovira'], 'pi': ['kaapie', 'kaapie', 'kaapiepato', 'kaapisi', 'kaapisivira', 'kaarekopie', 'kaaveakapie', 'kaaveakapievira', 'kaepie', 'kaepie', 'kaepievira', 'kaetupie', 'kaiporipie', 'kaitutupie', 'kakapikoa', 'kakapikoto', 'kakupie', 'kaperepie', 'kapi', 'kapiaa', 'kapiaavira', 'kapikapi', 'kapikapi', 'kapiro', 'kapiroa', 'kapiroko', 'kapisi', 'kapisito', 'kapiu', 'kapiua', 'kapuapie', 'kapupie', 'kapupiea', 'kapupiepaa', 'kapuupie', 'kapuupiepa', 'karapi', 'karapivira', 'karekepie', 'karepie', 'karepieto', 'Karepirie', 'kasipie', 'kasipupie', 'kasiraopie', 'kaukaupie', 'kavupie', 'kekepie', 'kepi', 'kepia', 'kepikepi', 'kepikepi', 'kepiko', 'kepiriko', 'kepiro', 'kepisi', 'kepisiva', 'kepita', 'kepitai', 'kepito', 'kerupiua', 'ketoopie', 'ketoopieara', 'kiipie', 'kikipi', 'kikipisi', 'kipapie', 'kiupie', 'koatapie', 'koetapie', 'koikoipie', 'kokepie', 'kokorokupie', 'kookoopi', 'koopi', 'koopipi', 'koopipi', 'kopii', 'kopiia', 'kopiipato', 'kopiipie', 'kopiipie', 'kopiito', 'kopikao', 'kopikopi', 'kopikopi', 'kopikopiara', 'kopikopiara', 'kopipi', 'kopipi', 'kopirovu', 'kopuasipie', 'kopupira', 'kororupie', 'korupie', 'korupievira', 'kosipie', 'kotupiua', 'kovopie', 'kukupira', 'kukuukupie', 'kupii', 'kurupi', 'kuupie', 'kuvaupie'], 'ra': ['kaapisivira', 'kaara', 'kaaveakapievira', 'kaaveakavira', 'kaekaevira', 'kaepievira', 'kaereasivira', 'kaetuvira', 'kaiporivira', 'kaitutuvira', 'kakaevira', 'kakara', 'Kakarapaia', 'kakarau', 'Kakarera', 'kakatuara', 'kakuvira', 'kandora', 'kaokaoara', 'kapara', 'kaparuvira', 'kapeaavira', 'kapekapevira', 'kapiaavira', 'kapokapora', 'kapoovira', 'Kara', 'kara', 'karaava', 'karakarao', 'karakarao', 'karakaraoa', 'karakaraoa', 'karakaraoto', 'karakaraoto', 'karakaraovira', 'karakaraovira', 'karakaraovira', 'karakaroto', 'karakuku', 'karaova', 'karapi', 'karapivira', 'karapivira', 'karara', 'karara', 'karata', 'karato', 'karavau', 'karavisi', 'karavisito', 'karavuru', 'karekarererava', 'kareovira', 'karirapa', 'karivara', 'karuvira', 'kasiarao', 'kasipuvira', 'kasirao', 'kasiraopie', 'kasiraovira', 'kasiraovira', 'kasiura', 'katakataivira', 'kataraua', 'katarauto', 'katavira', 'katokatovira', 'katuara', 'katuarato', 'kaukauvira', 'kausiovira', 'Kavatara', 'kaviruvira', 'kavora', 'kavorato', 'kavovovira', 'kavura', 'kavurao', 'keavira', 'keera', 'keevuruvira', 'kekeputuvira', 'kekeraokovira', 'kekeraokovira', 'kekevotovira', 'kekira', 'keovira', 'kera', 'kerakera', 'kerakera', 'kerari', 'keraria', 'kerau', 'kerauto', 'keravisi', 'keravisia', 'keravo', 'keripaara', 'kerisivira', 'keritara', 'keruriavira', 'kesievira', 'kesivira', 'ketoopieara', 'kevira', 'kevoisivira', 'kikira', 'kikiraeko', 'kipuvira', 'kira', 'kirava', 'koara', 'koarao', 'koaraua', 'koarava', 'koetavira', 'koikevira', 'koivira', 'kokara', 'kokaraa', 'kokarapato', 'kokerao', 'kokivira', 'kokopekovira', 'kokopuovira', 'kokopuvira', 'kokora', 'kokorai', 'kokorato', 'kokorivira', 'kokorovira', 'kokovara', 'kokovara', 'kokovaravira', 'kokovaravira', 'kookuvira', 'koora', 'kooroovira', 'kopakovira', 'kopikopiara', 'kopuasitovira', 'kopuasivira', 'kopupira', 'kopuvira', 'kora', 'korapato', 'korara', 'korara', 'koraraoko', 'koraraoko', 'korau', 'koraua', 'korauru', 'korauvira', 'korauvira', 'koriteira', 'kororoisivira', 'kororovivira', 'koruovira', 'korupievira', 'kotokotoara', 'kotovira', 'kovakovara', 'kovarato', 'kovatavira', 'kovukovuvira', 'kovurukovira', 'kovuruvira', 'kuara', 'kukara', 'kukupira', 'kuperovira', 'kurae', 'kurasia', 'kurasia', 'kurikasivira', 'kurovira', 'kururai', 'kuuvavira', 'kuuvuvira', 'kuvauvira', 'kuvera', 'kuverava', 'kuverevira', 'kuvuara'], 'po': ['kaapo', 'kaapopato', 'kaipori', 'kaiporipie', 'kaiporivira', 'kapo', 'kapoa', 'kapokao', 'kapokapo', 'kapokapo', 'kapokapoa', 'kapokapoa', 'kapokapora', 'kapokapora', 'kapokaporo', 'kapokaporo', 'kapokari', 'kapokarito', 'kapokoa', 'kapoo', 'kapooto', 'kapoovira', 'kapopaa', 'kaporo', 'kaporo', 'kaporopa', 'kaporoto', 'kapoto', 'karokaropo', 'karopo', 'kepo', 'kepoi', 'keposi', 'kepoto'], 're': ['kaare', 'kaareko', 'kaarekopie', 'kaareto', 'Kaareva', 'kaereasi', 'kaereasivira', 'Kakarera', 'kakuparei', 'kapere', 'kaperepie', 'kare', 'kare', 'karekare', 'karekare', 'karekare', 'karekare', 'karekarererava', 'karekarererava', 'karekarererava', 'karekareto', 'karekareto', 'kareke', 'karekepie', 'karekova', 'kareo', 'kareovira', 'karepie', 'karepieto', 'Karepirie', 'kataitoarei', 'kaureo', 'kaureoto', 'Kereaka', 'kerekoi', 'kerere', 'kerere', 'kerereua', 'kerereua', 'kerete', 'kerete', 'Kerevaru', 'kiire', 'kiire', 'kire', 'kokureko', 'korea', 'korekare', 'korekare', 'Korere', 'Korere', 'korereto', 'korereto', 'kovire', 'kovirea', 'kupare', 'kupareto', 'kurei', 'kuurea', 'kuvere', 'kuverea', 'kuvereto', 'kuverevira'], 've': ['kaaveaka', 'kaaveakapie', 'kaaveakapievira', 'kaaveakavira', 'kagave', 'kakavea', 'kave', 'kavee', 'kaveepaa', 'kaverui', 'kaveruko', 'kavesi', 'kiuve', 'koauve', 'kove', 'kove', 'kovea', 'kovekove', 'kovekove', 'koveoapa', 'koveva', 'kuvera', 'kuverava', 'kuvere', 'kuverea', 'kuvereto', 'kuverevira'], 'so': ['kaekaesoto', 'kekesopa'], 'ke': ['kaekeru', 'kakeoto', 'kareke', 'karekepie', 'kea', 'keakea', 'keakea', 'keakeato', 'keakeato', 'keari', 'kearito', 'keavira', 'kee', 'keekee', 'keekee', 'keekeepa', 'keekeepa', 'keekeeri', 'keekeeri', 'keekeerito', 'keekeerito', 'keera', 'keeriva', 'keesi', 'keetaa', 'keevuru', 'keevuruvira', 'kegi', 'kei', 'keke', 'keke', 'keke', 'keke', 'kekepie', 'kekepie', 'kekeputu', 'kekeputu', 'kekeputuvira', 'kekeputuvira', 'kekeraokovira', 'kekeraokovira', 'kekesopa', 'kekesopa', 'kekevoto', 'kekevoto', 'kekevotovira', 'kekevotovira', 'kekira', 'keo', 'keoka', 'keopa', 'keovira', 'kepa', 'kepa toupato', 'kepetai', 'kepi', 'kepia', 'kepikepi', 'kepikepi', 'kepiko', 'kepiriko', 'kepiro', 'kepisi', 'kepisiva', 'kepita', 'kepitai', 'kepito', 'kepo', 'kepoi', 'keposi', 'kepoto', 'kera', 'kerakera', 'kerakera', 'kerari', 'keraria', 'kerau', 'kerauto', 'keravisi', 'keravisia', 'keravo', 'kerekoi', 'kerere', 'kerereua', 'kerete', 'kerete', 'keri', 'kerikerisi', 'kerikerisi', 'kerio', 'kerioua', 'keripaara', 'keripato', 'kerisi', 'kerisito', 'kerisivira', 'keritara', 'keriva', 'keroroi', 'kerosiri', 'keru', 'keru', 'kerui', 'keruiato', 'keruito', 'kerupiua', 'keruria', 'keruriato', 'keruriavira', 'kesi', 'kesie', 'kesievira', 'kesikea vaaguru', 'kesikea vaaguru', 'kesio', 'kesioto', 'kesivira', 'keta', 'ketaka', 'ketakaa', 'ketato', 'ketoo', 'ketoo', 'ketoopie', 'ketoopieara', 'ketoroa', 'ketu', 'kevaita', 'kevaita', 'kevaitato', 'kevira', 'kevisi', 'kevoisi', 'kevoisivira', 'koike', 'koiketo', 'koikevira', 'koke', 'kokee', 'kokepato', 'kokepato', 'kokepie', 'kokerao', 'kokeriva', 'kokeu', 'kokeva', 'kovauke', 'kusike'], 'ru': ['kaekeru', 'kaparu', 'kaparuvira', 'karavuru', 'karu', 'karuka', 'karukaru', 'karukaru', 'karukava', 'Karuru', 'Karuru', 'karutu', 'karuvira', 'kaverui', 'kaveruko', 'kavikaviru', 'kavikaviru', 'kaviru', 'kaviru', 'kaviruto', 'kaviruvira', 'keevuru', 'keevuruvira', 'Kerevaru', 'keru', 'keru', 'kerui', 'keruiato', 'keruito', 'kerupiua', 'keruria', 'keruriato', 'keruriavira', 'kesikea vaaguru', 'kiiru', 'kiru', 'kirukiru', 'kirukiru', 'kirukirua', 'kirukirua', 'kirupato', 'kokokoru', 'Kokopuru', 'kokoru', 'kokoruu', 'kokoruu', 'kooru', 'Kopuru', 'korauru', 'kororu', 'kororupie', 'koru', 'Koruko', 'korukoru', 'korukoru', 'korukorupato', 'korukorupato', 'koruo', 'koruoto', 'koruou', 'koruoua', 'koruovira', 'korupie', 'korupievira', 'koturu', 'kovarua', 'kovoruko', 'kovuru', 'kovurui', 'kovuruko', 'kovurukovira', 'kovuruvira', 'kuru', 'kurue', 'kurupi', 'kururai', 'kururu', 'kururu', 'kurutu'], 'tu': ['kaetu', 'kaetupie', 'kaetuvira', 'kaitutu', 'kaitutu', 'kaitutupie', 'kaitutupie', 'kaitutuvira', 'kaitutuvira', 'kakatuara', 'kakutuiato', 'karutu', 'katuara', 'katuarato', 'katukatu', 'katukatu', 'katuta', 'kekeputu', 'kekeputuvira', 'ketu', 'kitu', 'kitukitu', 'kitukitu', 'kokootu', 'kokotu', 'kokotua', 'kokotuo', 'kootutu', 'kootutu', 'kotu', 'kotukotu', 'kotukotu', 'kotupiua', 'koturu', 'kuiopetu', 'kukutu', 'kurutu'], 'ri': ['kaipori', 'kaiporipie', 'kaiporivira', 'kairi', 'kairiro', 'kakiri', 'kapokari', 'kapokarito', 'Karepirie', 'kari', 'karia', 'kariava', 'karikari', 'karikari', 'karirapa', 'karisito', 'karivai', 'karivaito', 'karivara', 'kasivari', 'kasuari', 'kavori', 'kavori', 'keari', 'kearito', 'keekeeri', 'keekeerito', 'keeriva', 'kepiriko', 'kerari', 'keraria', 'keri', 'Keriaka', 'kerikerisi', 'kerikerisi', 'kerio', 'kerioua', 'keripaara', 'keripato', 'kerisi', 'kerisito', 'kerisivira', 'keritara', 'keriva', 'kerosiri', 'keruria', 'keruriato', 'keruriavira', 'kiikariko', 'kiri', 'kirikaokao', 'kirioto', 'kokeriva', 'kokori', 'kokorivira', 'Kokosiria', 'kokovupaparie', 'kokovurito', 'kori', 'koria', 'Koribori', 'Koribori', 'korikori', 'korikori', 'korikoripava', 'korikoripava', 'korita', 'korita', 'koriteira', 'koroviri', 'kukuriko', 'kukurikoto', 'kukusiri', 'kuri', 'kuriato', 'kurikaakaakuto', 'kurikasi', 'kurikasivira', 'kurikoko', 'kurikuri', 'kurikuri', 'kuripaa', 'kuritava', 'kuuri'], 'ta': ['kaita', 'kakata', 'kakutauo', 'kapatau', 'karata', 'kata', 'katai', 'kataitoarei', 'katakatai', 'katakatai', 'katakataivira', 'katakataivira', 'kataraua', 'katarauto', 'katavira', 'katuta', 'kavatao', 'Kavatara', 'keetaa', 'kepetai', 'kepita', 'kepitai', 'keritara', 'keta', 'ketaka', 'ketakaa', 'ketato', 'kevaita', 'kevaita', 'kevaitato', 'kikitausi', 'koata', 'koatapie', 'koeta', 'koetaova', 'koetapie', 'koetava', 'koetavira', 'kokotagoe', 'koota', 'korita', 'korita', 'kovata', 'kovatavira', 'kukutauvu', 'kukuvita', 'kuritava'], 'pu': ['kakapu', 'kakapua', 'kakupute', 'kapu', 'kapua', 'kapua', 'kapuapato', 'kapuapie', 'kapuasisi', 'kapupie', 'kapupiea', 'kapupiepaa', 'kapuu', 'kapuupie', 'kapuupiepa', 'kasipu', 'kasipupie', 'kasipuvira', 'kekeputu', 'kekeputuvira', 'kipu', 'kipukipu', 'kipukipu', 'kipupaa', 'kipupato', 'kipuvira', 'kokopuoto', 'kokopuovira', 'Kokopuru', 'kokopuvira', 'kopu', 'kopua', 'kopuasi', 'kopuasipie', 'kopuasito', 'kopuasitovira', 'kopuasivira', 'Kopuisi', 'kopukopu', 'kopukopu', 'kopukopua', 'kopukopua', 'kopupa', 'kopupira', 'kopuro', 'Kopuru', 'kopuvioro', 'kopuvira', 'kukue pute', 'kupukupu', 'kupukupu'], 'te': ['kakate', 'kakupute', 'kerete', 'kerete', 'kokoote', 'kokote', 'koriteira', 'kukue pute'], 'vu': ['kakavu', 'karavuru', 'kavu', 'kavu', 'kavuava', 'kavupie', 'kavura', 'kavurao', 'kavusi', 'kavuvo', 'keevuru', 'keevuruvira', 'kiuvu', 'kokovu', 'kokovua', 'kokovua', 'kokovua', 'kokovupaparie', 'kokovurito', 'kopirovu', 'kovuaka', 'kovuaro', 'kovukovu', 'kovukovu', 'kovukovuto', 'kovukovuto', 'kovukovuvira', 'kovukovuvira', 'kovuru', 'kovurui', 'kovuruko', 'kovurukovira', 'kovuruvira', 'kovuto', 'kukutauvu', 'kukuuvua', 'kukuvua', 'kuukuuvu', 'kuukuuvuto', 'kuuvu', 'kuuvuvira', 'kuvu', 'kuvuara', 'kuvukuvu', 'kuvukuvu', 'kuvukuvua', 'kuvukuvua', 'kuvupato', 'kuvuto'], 'su': ['kasuari']})\n"
     ]
    }
   ],
   "source": [
    "cv_word_pairs = [(cv, w) for w in rotokas_words for cv in re.findall(r'[ptksvr][aeiou]', w)]\n",
    "cv_index = nltk.Index(cv_word_pairs)\n",
    "print(cv_index)"
   ]
  },
  {
   "cell_type": "markdown",
   "metadata": {},
   "source": [
    "key 값으로 접근하면 그에 해당하는 value 값을 반환, 예를 들어 po 를 입력하면 po 가 cv로 저장 됐을 때의 w에 해당하는 모든 값들을 반환"
   ]
  },
  {
   "cell_type": "code",
   "execution_count": 39,
   "metadata": {},
   "outputs": [
    {
     "data": {
      "text/plain": [
       "['kaapo',\n",
       " 'kaapopato',\n",
       " 'kaipori',\n",
       " 'kaiporipie',\n",
       " 'kaiporivira',\n",
       " 'kapo',\n",
       " 'kapoa',\n",
       " 'kapokao',\n",
       " 'kapokapo',\n",
       " 'kapokapo',\n",
       " 'kapokapoa',\n",
       " 'kapokapoa',\n",
       " 'kapokapora',\n",
       " 'kapokapora',\n",
       " 'kapokaporo',\n",
       " 'kapokaporo',\n",
       " 'kapokari',\n",
       " 'kapokarito',\n",
       " 'kapokoa',\n",
       " 'kapoo',\n",
       " 'kapooto',\n",
       " 'kapoovira',\n",
       " 'kapopaa',\n",
       " 'kaporo',\n",
       " 'kaporo',\n",
       " 'kaporopa',\n",
       " 'kaporoto',\n",
       " 'kapoto',\n",
       " 'karokaropo',\n",
       " 'karopo',\n",
       " 'kepo',\n",
       " 'kepoi',\n",
       " 'keposi',\n",
       " 'kepoto']"
      ]
     },
     "execution_count": 39,
     "metadata": {},
     "output_type": "execute_result"
    }
   ],
   "source": [
    "cv_index['po']"
   ]
  }
 ],
 "metadata": {
  "kernelspec": {
   "display_name": "Python 3",
   "language": "python",
   "name": "python3"
  },
  "language_info": {
   "codemirror_mode": {
    "name": "ipython",
    "version": 3
   },
   "file_extension": ".py",
   "mimetype": "text/x-python",
   "name": "python",
   "nbconvert_exporter": "python",
   "pygments_lexer": "ipython3",
   "version": "3.7.1"
  }
 },
 "nbformat": 4,
 "nbformat_minor": 1
}
