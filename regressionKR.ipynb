{
 "cells": [
  {
   "cell_type": "markdown",
   "metadata": {},
   "source": [
    "# week 9\n",
    "## 5/2"
   ]
  },
  {
   "cell_type": "markdown",
   "metadata": {},
   "source": [
    "### import modules"
   ]
  },
  {
   "cell_type": "code",
   "execution_count": 1,
   "metadata": {},
   "outputs": [],
   "source": [
    "import tensorflow as tf\n",
    "import pandas as pd\n",
    "import numpy as np\n",
    "import matplotlib.pyplot as plt\n",
    "\n",
    "from tensorflow.keras.models import Sequential\n",
    "from tensorflow.keras.layers import Dense"
   ]
  },
  {
   "cell_type": "markdown",
   "metadata": {},
   "source": [
    "### data preparation and visualization\n",
    "regression.csv 파일을 불러 와서 X 와 Y 에 해당하는 데이터를 뽑아 plot 해 본다."
   ]
  },
  {
   "cell_type": "code",
   "execution_count": 2,
   "metadata": {},
   "outputs": [
    {
     "data": {
      "text/plain": [
       "[<matplotlib.lines.Line2D at 0x130087128>]"
      ]
     },
     "execution_count": 2,
     "metadata": {},
     "output_type": "execute_result"
    },
    {
     "data": {
      "image/png": "[encoded data removed]",
      "text/plain": [
       "<Figure size 432x288 with 1 Axes>"
      ]
     },
     "metadata": {
      "needs_background": "light"
     },
     "output_type": "display_data"
    }
   ],
   "source": [
    "# Training Data\n",
    "data = pd.read_csv('regression.csv', delimiter = ',')\n",
    "X = data['X']\n",
    "Y = data['Y']\n",
    "plt.plot(X, Y, '.')"
   ]
  },
  {
   "cell_type": "markdown",
   "metadata": {},
   "source": [
    "fully connected 되어 있는 dense layer\n",
    "\n",
    "output shape = 1, input shape = 1로 지정\n",
    "\n",
    "loss = mean squared error"
   ]
  },
  {
   "cell_type": "markdown",
   "metadata": {},
   "source": [
    "### create model\n",
    "\n",
    "sequential을 통해 모델 구축 준비\n",
    "\n",
    "dense 는 fully connected layer를 의미한다\n",
    "\n",
    "optimizer와 loss를 설정해 준다"
   ]
  },
  {
   "cell_type": "code",
   "execution_count": 3,
   "metadata": {},
   "outputs": [
    {
     "name": "stdout",
     "output_type": "stream",
     "text": [
      "WARNING:tensorflow:From /Users/yoonna/anaconda3/envs/tensorflow/lib/python3.7/site-packages/tensorflow/python/ops/resource_variable_ops.py:435: colocate_with (from tensorflow.python.framework.ops) is deprecated and will be removed in a future version.\n",
      "Instructions for updating:\n",
      "Colocations handled automatically by placer.\n",
      "WARNING:tensorflow:From /Users/yoonna/anaconda3/envs/tensorflow/lib/python3.7/site-packages/tensorflow/python/keras/utils/losses_utils.py:170: to_float (from tensorflow.python.ops.math_ops) is deprecated and will be removed in a future version.\n",
      "Instructions for updating:\n",
      "Use tf.cast instead.\n"
     ]
    }
   ],
   "source": [
    "model = Sequential()\n",
    "model.add(Dense(1, input_shape=[1]))\n",
    "model.compile(optimizer=\"sgd\", loss='mse')"
   ]
  },
  {
   "cell_type": "markdown",
   "metadata": {},
   "source": [
    "### train model\n",
    "\n",
    "epochs : train 할 횟수"
   ]
  },
  {
   "cell_type": "code",
   "execution_count": 4,
   "metadata": {},
   "outputs": [
    {
     "name": "stdout",
     "output_type": "stream",
     "text": [
      "WARNING:tensorflow:From /Users/yoonna/anaconda3/envs/tensorflow/lib/python3.7/site-packages/tensorflow/python/ops/math_ops.py:3066: to_int32 (from tensorflow.python.ops.math_ops) is deprecated and will be removed in a future version.\n",
      "Instructions for updating:\n",
      "Use tf.cast instead.\n",
      "Epoch 1/100\n",
      "17/17 [==============================] - 0s 13ms/sample - loss: 51.9361\n",
      "Epoch 2/100\n",
      "17/17 [==============================] - 0s 108us/sample - loss: 0.6904\n",
      "Epoch 3/100\n",
      "17/17 [==============================] - 0s 114us/sample - loss: 0.2101\n",
      "Epoch 4/100\n",
      "17/17 [==============================] - 0s 160us/sample - loss: 0.2053\n",
      "Epoch 5/100\n",
      "17/17 [==============================] - 0s 140us/sample - loss: 0.2050\n",
      "Epoch 6/100\n",
      "17/17 [==============================] - 0s 254us/sample - loss: 0.2048\n",
      "Epoch 7/100\n",
      "17/17 [==============================] - 0s 163us/sample - loss: 0.2046\n",
      "Epoch 8/100\n",
      "17/17 [==============================] - 0s 139us/sample - loss: 0.2043\n",
      "Epoch 9/100\n",
      "17/17 [==============================] - 0s 378us/sample - loss: 0.2041\n",
      "Epoch 10/100\n",
      "17/17 [==============================] - 0s 158us/sample - loss: 0.2038\n",
      "Epoch 11/100\n",
      "17/17 [==============================] - 0s 165us/sample - loss: 0.2036\n",
      "Epoch 12/100\n",
      "17/17 [==============================] - 0s 173us/sample - loss: 0.2033\n",
      "Epoch 13/100\n",
      "17/17 [==============================] - 0s 294us/sample - loss: 0.2031\n",
      "Epoch 14/100\n",
      "17/17 [==============================] - 0s 183us/sample - loss: 0.2029\n",
      "Epoch 15/100\n",
      "17/17 [==============================] - 0s 184us/sample - loss: 0.2026\n",
      "Epoch 16/100\n",
      "17/17 [==============================] - 0s 154us/sample - loss: 0.2024\n",
      "Epoch 17/100\n",
      "17/17 [==============================] - 0s 131us/sample - loss: 0.2021\n",
      "Epoch 18/100\n",
      "17/17 [==============================] - 0s 261us/sample - loss: 0.2019\n",
      "Epoch 19/100\n",
      "17/17 [==============================] - 0s 191us/sample - loss: 0.2017\n",
      "Epoch 20/100\n",
      "17/17 [==============================] - 0s 181us/sample - loss: 0.2014\n",
      "Epoch 21/100\n",
      "17/17 [==============================] - 0s 150us/sample - loss: 0.2012\n",
      "Epoch 22/100\n",
      "17/17 [==============================] - 0s 139us/sample - loss: 0.2010\n",
      "Epoch 23/100\n",
      "17/17 [==============================] - 0s 172us/sample - loss: 0.2008\n",
      "Epoch 24/100\n",
      "17/17 [==============================] - 0s 164us/sample - loss: 0.2005\n",
      "Epoch 25/100\n",
      "17/17 [==============================] - 0s 139us/sample - loss: 0.2003\n",
      "Epoch 26/100\n",
      "17/17 [==============================] - 0s 123us/sample - loss: 0.2001\n",
      "Epoch 27/100\n",
      "17/17 [==============================] - 0s 128us/sample - loss: 0.1999\n",
      "Epoch 28/100\n",
      "17/17 [==============================] - 0s 158us/sample - loss: 0.1996\n",
      "Epoch 29/100\n",
      "17/17 [==============================] - 0s 304us/sample - loss: 0.1994\n",
      "Epoch 30/100\n",
      "17/17 [==============================] - 0s 130us/sample - loss: 0.1992\n",
      "Epoch 31/100\n",
      "17/17 [==============================] - 0s 109us/sample - loss: 0.1990\n",
      "Epoch 32/100\n",
      "17/17 [==============================] - 0s 198us/sample - loss: 0.1988\n",
      "Epoch 33/100\n",
      "17/17 [==============================] - 0s 119us/sample - loss: 0.1985\n",
      "Epoch 34/100\n",
      "17/17 [==============================] - 0s 222us/sample - loss: 0.1983\n",
      "Epoch 35/100\n",
      "17/17 [==============================] - 0s 120us/sample - loss: 0.1981\n",
      "Epoch 36/100\n",
      "17/17 [==============================] - 0s 150us/sample - loss: 0.1979\n",
      "Epoch 37/100\n",
      "17/17 [==============================] - 0s 154us/sample - loss: 0.1977\n",
      "Epoch 38/100\n",
      "17/17 [==============================] - 0s 118us/sample - loss: 0.1975\n",
      "Epoch 39/100\n",
      "17/17 [==============================] - 0s 124us/sample - loss: 0.1972\n",
      "Epoch 40/100\n",
      "17/17 [==============================] - 0s 137us/sample - loss: 0.1970\n",
      "Epoch 41/100\n",
      "17/17 [==============================] - 0s 291us/sample - loss: 0.1968\n",
      "Epoch 42/100\n",
      "17/17 [==============================] - 0s 271us/sample - loss: 0.1966\n",
      "Epoch 43/100\n",
      "17/17 [==============================] - 0s 168us/sample - loss: 0.1964\n",
      "Epoch 44/100\n",
      "17/17 [==============================] - 0s 217us/sample - loss: 0.1962\n",
      "Epoch 45/100\n",
      "17/17 [==============================] - 0s 120us/sample - loss: 0.1960\n",
      "Epoch 46/100\n",
      "17/17 [==============================] - 0s 109us/sample - loss: 0.1958\n",
      "Epoch 47/100\n",
      "17/17 [==============================] - 0s 144us/sample - loss: 0.1956\n",
      "Epoch 48/100\n",
      "17/17 [==============================] - 0s 118us/sample - loss: 0.1954\n",
      "Epoch 49/100\n",
      "17/17 [==============================] - 0s 144us/sample - loss: 0.1952\n",
      "Epoch 50/100\n",
      "17/17 [==============================] - 0s 203us/sample - loss: 0.1950\n",
      "Epoch 51/100\n",
      "17/17 [==============================] - 0s 141us/sample - loss: 0.1948\n",
      "Epoch 52/100\n",
      "17/17 [==============================] - 0s 252us/sample - loss: 0.1946\n",
      "Epoch 53/100\n",
      "17/17 [==============================] - 0s 93us/sample - loss: 0.1944\n",
      "Epoch 54/100\n",
      "17/17 [==============================] - 0s 204us/sample - loss: 0.1942\n",
      "Epoch 55/100\n",
      "17/17 [==============================] - 0s 181us/sample - loss: 0.1940\n",
      "Epoch 56/100\n",
      "17/17 [==============================] - 0s 246us/sample - loss: 0.1938\n",
      "Epoch 57/100\n",
      "17/17 [==============================] - 0s 124us/sample - loss: 0.1936\n",
      "Epoch 58/100\n",
      "17/17 [==============================] - 0s 175us/sample - loss: 0.1934\n",
      "Epoch 59/100\n",
      "17/17 [==============================] - 0s 139us/sample - loss: 0.1932\n",
      "Epoch 60/100\n",
      "17/17 [==============================] - 0s 190us/sample - loss: 0.1930\n",
      "Epoch 61/100\n",
      "17/17 [==============================] - 0s 127us/sample - loss: 0.1928\n",
      "Epoch 62/100\n",
      "17/17 [==============================] - 0s 140us/sample - loss: 0.1927\n",
      "Epoch 63/100\n",
      "17/17 [==============================] - 0s 215us/sample - loss: 0.1925\n",
      "Epoch 64/100\n",
      "17/17 [==============================] - 0s 128us/sample - loss: 0.1923\n",
      "Epoch 65/100\n",
      "17/17 [==============================] - 0s 136us/sample - loss: 0.1921\n",
      "Epoch 66/100\n",
      "17/17 [==============================] - 0s 113us/sample - loss: 0.1919\n",
      "Epoch 67/100\n",
      "17/17 [==============================] - 0s 113us/sample - loss: 0.1917\n",
      "Epoch 68/100\n",
      "17/17 [==============================] - 0s 115us/sample - loss: 0.1915\n",
      "Epoch 69/100\n",
      "17/17 [==============================] - 0s 114us/sample - loss: 0.1914\n",
      "Epoch 70/100\n",
      "17/17 [==============================] - 0s 108us/sample - loss: 0.1912\n",
      "Epoch 71/100\n",
      "17/17 [==============================] - 0s 126us/sample - loss: 0.1910\n",
      "Epoch 72/100\n",
      "17/17 [==============================] - 0s 111us/sample - loss: 0.1908\n",
      "Epoch 73/100\n",
      "17/17 [==============================] - 0s 116us/sample - loss: 0.1906\n",
      "Epoch 74/100\n",
      "17/17 [==============================] - 0s 226us/sample - loss: 0.1905\n",
      "Epoch 75/100\n",
      "17/17 [==============================] - 0s 145us/sample - loss: 0.1903\n",
      "Epoch 76/100\n",
      "17/17 [==============================] - 0s 215us/sample - loss: 0.1901\n",
      "Epoch 77/100\n",
      "17/17 [==============================] - 0s 112us/sample - loss: 0.1899\n",
      "Epoch 78/100\n",
      "17/17 [==============================] - 0s 242us/sample - loss: 0.1898\n",
      "Epoch 79/100\n",
      "17/17 [==============================] - 0s 197us/sample - loss: 0.1896\n",
      "Epoch 80/100\n",
      "17/17 [==============================] - 0s 116us/sample - loss: 0.1894\n",
      "Epoch 81/100\n",
      "17/17 [==============================] - 0s 427us/sample - loss: 0.1892\n",
      "Epoch 82/100\n",
      "17/17 [==============================] - 0s 170us/sample - loss: 0.1891\n",
      "Epoch 83/100\n",
      "17/17 [==============================] - 0s 130us/sample - loss: 0.1889\n",
      "Epoch 84/100\n",
      "17/17 [==============================] - 0s 167us/sample - loss: 0.1887\n",
      "Epoch 85/100\n",
      "17/17 [==============================] - 0s 156us/sample - loss: 0.1886\n",
      "Epoch 86/100\n",
      "17/17 [==============================] - 0s 149us/sample - loss: 0.1884\n",
      "Epoch 87/100\n",
      "17/17 [==============================] - 0s 298us/sample - loss: 0.1882\n",
      "Epoch 88/100\n",
      "17/17 [==============================] - 0s 129us/sample - loss: 0.1881\n",
      "Epoch 89/100\n",
      "17/17 [==============================] - 0s 242us/sample - loss: 0.1879\n",
      "Epoch 90/100\n",
      "17/17 [==============================] - 0s 162us/sample - loss: 0.1877\n",
      "Epoch 91/100\n",
      "17/17 [==============================] - 0s 106us/sample - loss: 0.1876\n",
      "Epoch 92/100\n",
      "17/17 [==============================] - 0s 101us/sample - loss: 0.1874\n",
      "Epoch 93/100\n",
      "17/17 [==============================] - 0s 121us/sample - loss: 0.1872\n",
      "Epoch 94/100\n",
      "17/17 [==============================] - 0s 111us/sample - loss: 0.1871\n"
     ]
    },
    {
     "name": "stdout",
     "output_type": "stream",
     "text": [
      "Epoch 95/100\n",
      "17/17 [==============================] - 0s 122us/sample - loss: 0.1869\n",
      "Epoch 96/100\n",
      "17/17 [==============================] - 0s 355us/sample - loss: 0.1867\n",
      "Epoch 97/100\n",
      "17/17 [==============================] - 0s 165us/sample - loss: 0.1866\n",
      "Epoch 98/100\n",
      "17/17 [==============================] - 0s 185us/sample - loss: 0.1864\n",
      "Epoch 99/100\n",
      "17/17 [==============================] - 0s 228us/sample - loss: 0.1863\n",
      "Epoch 100/100\n",
      "17/17 [==============================] - 0s 126us/sample - loss: 0.1861\n"
     ]
    },
    {
     "data": {
      "text/plain": [
       "<tensorflow.python.keras.callbacks.History at 0x1320cb908>"
      ]
     },
     "execution_count": 4,
     "metadata": {},
     "output_type": "execute_result"
    }
   ],
   "source": [
    "model.fit(X, Y, epochs=100)"
   ]
  },
  {
   "cell_type": "markdown",
   "metadata": {},
   "source": [
    "### predict model\n",
    "\n",
    "모델로 예측을 직접 해본다"
   ]
  },
  {
   "cell_type": "code",
   "execution_count": 5,
   "metadata": {},
   "outputs": [
    {
     "data": {
      "image/png": "[encoded data removed]",
      "text/plain": [
       "<Figure size 432x288 with 1 Axes>"
      ]
     },
     "metadata": {
      "needs_background": "light"
     },
     "output_type": "display_data"
    }
   ],
   "source": [
    "x = [1, 2, 3, 4, 5, 6, 7, 8, 9, 10]\n",
    "y = model.predict(x)\n",
    "plt.plot(X, Y, '.')\n",
    "plt.plot(x,y, 'x')\n",
    "plt.show()"
   ]
  },
  {
   "cell_type": "markdown",
   "metadata": {},
   "source": [
    "## what are a and b in y = ax + b ?\n",
    "\n",
    "y = ax + b 에서 a와 b는 x에서 y를 도출하는 weights"
   ]
  },
  {
   "cell_type": "code",
   "execution_count": 6,
   "metadata": {},
   "outputs": [
    {
     "name": "stdout",
     "output_type": "stream",
     "text": [
      "[array([[0.3234604]], dtype=float32), array([0.289591], dtype=float32)]\n"
     ]
    }
   ],
   "source": [
    "weights = model.layers[0].get_weights()\n",
    "print(weights)"
   ]
  }
 ],
 "metadata": {
  "kernelspec": {
   "display_name": "tensorflow",
   "language": "python",
   "name": "tensorflow"
  },
  "language_info": {
   "codemirror_mode": {
    "name": "ipython",
    "version": 3
   },
   "file_extension": ".py",
   "mimetype": "text/x-python",
   "name": "python",
   "nbconvert_exporter": "python",
   "pygments_lexer": "ipython3",
   "version": "3.7.2"
  }
 },
 "nbformat": 4,
 "nbformat_minor": 1
}
