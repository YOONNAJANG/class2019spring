{
 "cells": [
  {
   "cell_type": "markdown",
   "metadata": {},
   "source": [
    "# week 9\n",
    "## 5/2"
   ]
  },
  {
   "cell_type": "code",
   "execution_count": 1,
   "metadata": {},
   "outputs": [],
   "source": [
    "import tensorflow as tf\n",
    "import pandas as pd\n",
    "import numpy as np\n",
    "import matplotlib.pyplot as plt"
   ]
  },
  {
   "cell_type": "markdown",
   "metadata": {},
   "source": [
    "regression.csv 파일을 불러 와서 X 와 Y 에 해당하는 데이터를 뽑아 plot 해 본다."
   ]
  },
  {
   "cell_type": "code",
   "execution_count": 2,
   "metadata": {},
   "outputs": [
    {
     "data": {
      "text/plain": [
       "[<matplotlib.lines.Line2D at 0x128621320>]"
      ]
     },
     "execution_count": 2,
     "metadata": {},
     "output_type": "execute_result"
    },
    {
     "data": {
      "image/png": "[encoded data removed]",
      "text/plain": [
       "<Figure size 432x288 with 1 Axes>"
      ]
     },
     "metadata": {
      "needs_background": "light"
     },
     "output_type": "display_data"
    }
   ],
   "source": [
    "# Training Data\n",
    "data = pd.read_csv('regression.csv', delimiter = ',')\n",
    "X = data['X'].tolist()\n",
    "Y = data['Y'].tolist()\n",
    "plt.plot(X, Y, '.')"
   ]
  },
  {
   "cell_type": "markdown",
   "metadata": {},
   "source": [
    "numpy array로 변환"
   ]
  },
  {
   "cell_type": "code",
   "execution_count": 3,
   "metadata": {},
   "outputs": [],
   "source": [
    "x_train = np.asarray(X)\n",
    "y_train = np.asarray(Y)"
   ]
  },
  {
   "cell_type": "markdown",
   "metadata": {},
   "source": [
    "fully connected 되어 있는 dense layer\n",
    "\n",
    "output shape = 1, input shape = 1로 지정\n",
    "\n",
    "loss = mean squared error"
   ]
  },
  {
   "cell_type": "markdown",
   "metadata": {},
   "source": [
    "### create model"
   ]
  },
  {
   "cell_type": "code",
   "execution_count": 4,
   "metadata": {},
   "outputs": [
    {
     "name": "stdout",
     "output_type": "stream",
     "text": [
      "WARNING:tensorflow:From /Users/yoonna/anaconda3/envs/tensorflow/lib/python3.7/site-packages/tensorflow/python/ops/resource_variable_ops.py:435: colocate_with (from tensorflow.python.framework.ops) is deprecated and will be removed in a future version.\n",
      "Instructions for updating:\n",
      "Colocations handled automatically by placer.\n",
      "WARNING:tensorflow:From /Users/yoonna/anaconda3/envs/tensorflow/lib/python3.7/site-packages/tensorflow/python/keras/utils/losses_utils.py:170: to_float (from tensorflow.python.ops.math_ops) is deprecated and will be removed in a future version.\n",
      "Instructions for updating:\n",
      "Use tf.cast instead.\n"
     ]
    }
   ],
   "source": [
    "model = tf.keras.models.Sequential([\n",
    "    tf.keras.layers.Dense(1, input_shape=[1])    \n",
    "])\n",
    "optimizer = tf.keras.optimizers.RMSprop(0.01)\n",
    "model.compile(optimizer=optimizer,\n",
    "              loss='mse',\n",
    "              metrics=['mse']) "
   ]
  },
  {
   "cell_type": "markdown",
   "metadata": {},
   "source": [
    "### train model"
   ]
  },
  {
   "cell_type": "code",
   "execution_count": 5,
   "metadata": {},
   "outputs": [
    {
     "name": "stdout",
     "output_type": "stream",
     "text": [
      "WARNING:tensorflow:From /Users/yoonna/anaconda3/envs/tensorflow/lib/python3.7/site-packages/tensorflow/python/ops/math_ops.py:3066: to_int32 (from tensorflow.python.ops.math_ops) is deprecated and will be removed in a future version.\n",
      "Instructions for updating:\n",
      "Use tf.cast instead.\n",
      "Epoch 1/100\n",
      "17/17 [==============================] - 0s 7ms/sample - loss: 193.7990 - mean_squared_error: 193.7990\n",
      "Epoch 2/100\n",
      "17/17 [==============================] - 0s 117us/sample - loss: 187.1714 - mean_squared_error: 187.1714\n",
      "Epoch 3/100\n",
      "17/17 [==============================] - 0s 136us/sample - loss: 182.4745 - mean_squared_error: 182.4745\n",
      "Epoch 4/100\n",
      "17/17 [==============================] - 0s 178us/sample - loss: 178.6072 - mean_squared_error: 178.6072\n",
      "Epoch 5/100\n",
      "17/17 [==============================] - 0s 190us/sample - loss: 175.2219 - mean_squared_error: 175.2219\n",
      "Epoch 6/100\n",
      "17/17 [==============================] - 0s 225us/sample - loss: 172.1578 - mean_squared_error: 172.1578\n",
      "Epoch 7/100\n",
      "17/17 [==============================] - 0s 143us/sample - loss: 169.3255 - mean_squared_error: 169.3255\n",
      "Epoch 8/100\n",
      "17/17 [==============================] - 0s 336us/sample - loss: 166.6694 - mean_squared_error: 166.6694\n",
      "Epoch 9/100\n",
      "17/17 [==============================] - 0s 149us/sample - loss: 164.1526 - mean_squared_error: 164.1526\n",
      "Epoch 10/100\n",
      "17/17 [==============================] - 0s 211us/sample - loss: 161.7488 - mean_squared_error: 161.7488\n",
      "Epoch 11/100\n",
      "17/17 [==============================] - 0s 122us/sample - loss: 159.4388 - mean_squared_error: 159.4388\n",
      "Epoch 12/100\n",
      "17/17 [==============================] - 0s 394us/sample - loss: 157.2082 - mean_squared_error: 157.2082\n",
      "Epoch 13/100\n",
      "17/17 [==============================] - 0s 143us/sample - loss: 155.0455 - mean_squared_error: 155.0455\n",
      "Epoch 14/100\n",
      "17/17 [==============================] - 0s 163us/sample - loss: 152.9420 - mean_squared_error: 152.9420\n",
      "Epoch 15/100\n",
      "17/17 [==============================] - 0s 97us/sample - loss: 150.8904 - mean_squared_error: 150.8904\n",
      "Epoch 16/100\n",
      "17/17 [==============================] - 0s 168us/sample - loss: 148.8849 - mean_squared_error: 148.8849\n",
      "Epoch 17/100\n",
      "17/17 [==============================] - 0s 110us/sample - loss: 146.9205 - mean_squared_error: 146.9205\n",
      "Epoch 18/100\n",
      "17/17 [==============================] - 0s 99us/sample - loss: 144.9933 - mean_squared_error: 144.9933\n",
      "Epoch 19/100\n",
      "17/17 [==============================] - 0s 215us/sample - loss: 143.0999 - mean_squared_error: 143.0999\n",
      "Epoch 20/100\n",
      "17/17 [==============================] - 0s 162us/sample - loss: 141.2373 - mean_squared_error: 141.2373\n",
      "Epoch 21/100\n",
      "17/17 [==============================] - 0s 107us/sample - loss: 139.4031 - mean_squared_error: 139.4031\n",
      "Epoch 22/100\n",
      "17/17 [==============================] - 0s 97us/sample - loss: 137.5951 - mean_squared_error: 137.5951\n",
      "Epoch 23/100\n",
      "17/17 [==============================] - 0s 94us/sample - loss: 135.8116 - mean_squared_error: 135.8116\n",
      "Epoch 24/100\n",
      "17/17 [==============================] - 0s 174us/sample - loss: 134.0510 - mean_squared_error: 134.0510\n",
      "Epoch 25/100\n",
      "17/17 [==============================] - 0s 135us/sample - loss: 132.3119 - mean_squared_error: 132.3119\n",
      "Epoch 26/100\n",
      "17/17 [==============================] - 0s 135us/sample - loss: 130.5930 - mean_squared_error: 130.5930\n",
      "Epoch 27/100\n",
      "17/17 [==============================] - 0s 150us/sample - loss: 128.8933 - mean_squared_error: 128.8933\n",
      "Epoch 28/100\n",
      "17/17 [==============================] - 0s 119us/sample - loss: 127.2119 - mean_squared_error: 127.2119\n",
      "Epoch 29/100\n",
      "17/17 [==============================] - 0s 154us/sample - loss: 125.5480 - mean_squared_error: 125.5480\n",
      "Epoch 30/100\n",
      "17/17 [==============================] - 0s 166us/sample - loss: 123.9008 - mean_squared_error: 123.9008\n",
      "Epoch 31/100\n",
      "17/17 [==============================] - 0s 140us/sample - loss: 122.2696 - mean_squared_error: 122.2696\n",
      "Epoch 32/100\n",
      "17/17 [==============================] - 0s 115us/sample - loss: 120.6541 - mean_squared_error: 120.6541\n",
      "Epoch 33/100\n",
      "17/17 [==============================] - 0s 131us/sample - loss: 119.0535 - mean_squared_error: 119.0535\n",
      "Epoch 34/100\n",
      "17/17 [==============================] - 0s 100us/sample - loss: 117.4675 - mean_squared_error: 117.4675\n",
      "Epoch 35/100\n",
      "17/17 [==============================] - 0s 156us/sample - loss: 115.8957 - mean_squared_error: 115.8957\n",
      "Epoch 36/100\n",
      "17/17 [==============================] - 0s 252us/sample - loss: 114.3377 - mean_squared_error: 114.3377\n",
      "Epoch 37/100\n",
      "17/17 [==============================] - 0s 167us/sample - loss: 112.7933 - mean_squared_error: 112.7933\n",
      "Epoch 38/100\n",
      "17/17 [==============================] - 0s 147us/sample - loss: 111.2620 - mean_squared_error: 111.2620\n",
      "Epoch 39/100\n",
      "17/17 [==============================] - 0s 126us/sample - loss: 109.7437 - mean_squared_error: 109.7437\n",
      "Epoch 40/100\n",
      "17/17 [==============================] - 0s 162us/sample - loss: 108.2382 - mean_squared_error: 108.2382\n",
      "Epoch 41/100\n",
      "17/17 [==============================] - 0s 99us/sample - loss: 106.7452 - mean_squared_error: 106.7452\n",
      "Epoch 42/100\n",
      "17/17 [==============================] - 0s 233us/sample - loss: 105.2645 - mean_squared_error: 105.2645\n",
      "Epoch 43/100\n",
      "17/17 [==============================] - 0s 121us/sample - loss: 103.7960 - mean_squared_error: 103.7960\n",
      "Epoch 44/100\n",
      "17/17 [==============================] - 0s 115us/sample - loss: 102.3396 - mean_squared_error: 102.3396\n",
      "Epoch 45/100\n",
      "17/17 [==============================] - 0s 108us/sample - loss: 100.8951 - mean_squared_error: 100.8951\n",
      "Epoch 46/100\n",
      "17/17 [==============================] - 0s 181us/sample - loss: 99.4623 - mean_squared_error: 99.4623\n",
      "Epoch 47/100\n",
      "17/17 [==============================] - 0s 169us/sample - loss: 98.0412 - mean_squared_error: 98.0412\n",
      "Epoch 48/100\n",
      "17/17 [==============================] - 0s 99us/sample - loss: 96.6317 - mean_squared_error: 96.6317\n",
      "Epoch 49/100\n",
      "17/17 [==============================] - 0s 97us/sample - loss: 95.2337 - mean_squared_error: 95.2337\n",
      "Epoch 50/100\n",
      "17/17 [==============================] - 0s 148us/sample - loss: 93.8471 - mean_squared_error: 93.8471\n",
      "Epoch 51/100\n",
      "17/17 [==============================] - 0s 120us/sample - loss: 92.4718 - mean_squared_error: 92.4718\n",
      "Epoch 52/100\n",
      "17/17 [==============================] - 0s 195us/sample - loss: 91.1078 - mean_squared_error: 91.1078\n",
      "Epoch 53/100\n",
      "17/17 [==============================] - 0s 127us/sample - loss: 89.7550 - mean_squared_error: 89.7550\n",
      "Epoch 54/100\n",
      "17/17 [==============================] - 0s 152us/sample - loss: 88.4134 - mean_squared_error: 88.4134\n",
      "Epoch 55/100\n",
      "17/17 [==============================] - 0s 104us/sample - loss: 87.0829 - mean_squared_error: 87.0829\n",
      "Epoch 56/100\n",
      "17/17 [==============================] - 0s 202us/sample - loss: 85.7634 - mean_squared_error: 85.7634\n",
      "Epoch 57/100\n",
      "17/17 [==============================] - 0s 120us/sample - loss: 84.4550 - mean_squared_error: 84.4550\n",
      "Epoch 58/100\n",
      "17/17 [==============================] - 0s 129us/sample - loss: 83.1575 - mean_squared_error: 83.1575\n",
      "Epoch 59/100\n",
      "17/17 [==============================] - 0s 189us/sample - loss: 81.8710 - mean_squared_error: 81.8710\n",
      "Epoch 60/100\n",
      "17/17 [==============================] - 0s 88us/sample - loss: 80.5955 - mean_squared_error: 80.5955\n",
      "Epoch 61/100\n",
      "17/17 [==============================] - 0s 148us/sample - loss: 79.3307 - mean_squared_error: 79.3307\n",
      "Epoch 62/100\n",
      "17/17 [==============================] - 0s 115us/sample - loss: 78.0769 - mean_squared_error: 78.0769\n",
      "Epoch 63/100\n",
      "17/17 [==============================] - 0s 174us/sample - loss: 76.8339 - mean_squared_error: 76.8339\n",
      "Epoch 64/100\n",
      "17/17 [==============================] - 0s 168us/sample - loss: 75.6017 - mean_squared_error: 75.6017\n",
      "Epoch 65/100\n",
      "17/17 [==============================] - 0s 103us/sample - loss: 74.3803 - mean_squared_error: 74.3803\n",
      "Epoch 66/100\n",
      "17/17 [==============================] - 0s 221us/sample - loss: 73.1697 - mean_squared_error: 73.1697\n",
      "Epoch 67/100\n",
      "17/17 [==============================] - 0s 124us/sample - loss: 71.9698 - mean_squared_error: 71.9698\n",
      "Epoch 68/100\n",
      "17/17 [==============================] - 0s 179us/sample - loss: 70.7806 - mean_squared_error: 70.7806\n"
     ]
    },
    {
     "name": "stdout",
     "output_type": "stream",
     "text": [
      "Epoch 69/100\n",
      "17/17 [==============================] - 0s 123us/sample - loss: 69.6022 - mean_squared_error: 69.6022\n",
      "Epoch 70/100\n",
      "17/17 [==============================] - 0s 108us/sample - loss: 68.4344 - mean_squared_error: 68.4344\n",
      "Epoch 71/100\n",
      "17/17 [==============================] - 0s 104us/sample - loss: 67.2774 - mean_squared_error: 67.2774\n",
      "Epoch 72/100\n",
      "17/17 [==============================] - 0s 95us/sample - loss: 66.1310 - mean_squared_error: 66.1310\n",
      "Epoch 73/100\n",
      "17/17 [==============================] - 0s 109us/sample - loss: 64.9952 - mean_squared_error: 64.9952\n",
      "Epoch 74/100\n",
      "17/17 [==============================] - 0s 177us/sample - loss: 63.8701 - mean_squared_error: 63.8701\n",
      "Epoch 75/100\n",
      "17/17 [==============================] - 0s 187us/sample - loss: 62.7556 - mean_squared_error: 62.7556\n",
      "Epoch 76/100\n",
      "17/17 [==============================] - 0s 131us/sample - loss: 61.6518 - mean_squared_error: 61.6518\n",
      "Epoch 77/100\n",
      "17/17 [==============================] - 0s 103us/sample - loss: 60.5585 - mean_squared_error: 60.5585\n",
      "Epoch 78/100\n",
      "17/17 [==============================] - 0s 132us/sample - loss: 59.4758 - mean_squared_error: 59.4758\n",
      "Epoch 79/100\n",
      "17/17 [==============================] - 0s 158us/sample - loss: 58.4037 - mean_squared_error: 58.4037\n",
      "Epoch 80/100\n",
      "17/17 [==============================] - 0s 101us/sample - loss: 57.3422 - mean_squared_error: 57.3422\n",
      "Epoch 81/100\n",
      "17/17 [==============================] - 0s 254us/sample - loss: 56.2912 - mean_squared_error: 56.2912\n",
      "Epoch 82/100\n",
      "17/17 [==============================] - 0s 180us/sample - loss: 55.2508 - mean_squared_error: 55.2508\n",
      "Epoch 83/100\n",
      "17/17 [==============================] - 0s 179us/sample - loss: 54.2209 - mean_squared_error: 54.2209\n",
      "Epoch 84/100\n",
      "17/17 [==============================] - 0s 243us/sample - loss: 53.2015 - mean_squared_error: 53.2015\n",
      "Epoch 85/100\n",
      "17/17 [==============================] - 0s 125us/sample - loss: 52.1926 - mean_squared_error: 52.1926\n",
      "Epoch 86/100\n",
      "17/17 [==============================] - 0s 235us/sample - loss: 51.1942 - mean_squared_error: 51.1942\n",
      "Epoch 87/100\n",
      "17/17 [==============================] - 0s 196us/sample - loss: 50.2063 - mean_squared_error: 50.2063\n",
      "Epoch 88/100\n",
      "17/17 [==============================] - 0s 273us/sample - loss: 49.2289 - mean_squared_error: 49.2289\n",
      "Epoch 89/100\n",
      "17/17 [==============================] - 0s 292us/sample - loss: 48.2619 - mean_squared_error: 48.2619\n",
      "Epoch 90/100\n",
      "17/17 [==============================] - 0s 133us/sample - loss: 47.3054 - mean_squared_error: 47.3054\n",
      "Epoch 91/100\n",
      "17/17 [==============================] - 0s 171us/sample - loss: 46.3593 - mean_squared_error: 46.3593\n",
      "Epoch 92/100\n",
      "17/17 [==============================] - 0s 182us/sample - loss: 45.4236 - mean_squared_error: 45.4236\n",
      "Epoch 93/100\n",
      "17/17 [==============================] - 0s 147us/sample - loss: 44.4984 - mean_squared_error: 44.4984\n",
      "Epoch 94/100\n",
      "17/17 [==============================] - 0s 118us/sample - loss: 43.5835 - mean_squared_error: 43.5835\n",
      "Epoch 95/100\n",
      "17/17 [==============================] - 0s 109us/sample - loss: 42.6791 - mean_squared_error: 42.6791\n",
      "Epoch 96/100\n",
      "17/17 [==============================] - 0s 121us/sample - loss: 41.7850 - mean_squared_error: 41.7850\n",
      "Epoch 97/100\n",
      "17/17 [==============================] - 0s 106us/sample - loss: 40.9013 - mean_squared_error: 40.9013\n",
      "Epoch 98/100\n",
      "17/17 [==============================] - 0s 169us/sample - loss: 40.0279 - mean_squared_error: 40.0279\n",
      "Epoch 99/100\n",
      "17/17 [==============================] - 0s 116us/sample - loss: 39.1649 - mean_squared_error: 39.1649\n",
      "Epoch 100/100\n",
      "17/17 [==============================] - 0s 154us/sample - loss: 38.3122 - mean_squared_error: 38.3122\n"
     ]
    },
    {
     "data": {
      "text/plain": [
       "<tensorflow.python.keras.callbacks.History at 0x12852f7b8>"
      ]
     },
     "execution_count": 5,
     "metadata": {},
     "output_type": "execute_result"
    }
   ],
   "source": [
    "model.fit(x_train, y_train, epochs=100)"
   ]
  },
  {
   "cell_type": "markdown",
   "metadata": {},
   "source": [
    "### predict model"
   ]
  },
  {
   "cell_type": "code",
   "execution_count": 6,
   "metadata": {},
   "outputs": [],
   "source": [
    "x = np.arange(2,11,1)\n",
    "y = model.predict(x)"
   ]
  },
  {
   "cell_type": "code",
   "execution_count": 7,
   "metadata": {},
   "outputs": [
    {
     "data": {
      "text/plain": [
       "[<matplotlib.lines.Line2D at 0x12aed9710>]"
      ]
     },
     "execution_count": 7,
     "metadata": {},
     "output_type": "execute_result"
    },
    {
     "data": {
      "image/png": "[encoded data removed]",
      "text/plain": [
       "<Figure size 432x288 with 1 Axes>"
      ]
     },
     "metadata": {
      "needs_background": "light"
     },
     "output_type": "display_data"
    }
   ],
   "source": [
    "plt.plot(x,y, 'ro')"
   ]
  },
  {
   "cell_type": "markdown",
   "metadata": {},
   "source": [
    "## what are a and b in y = ax + b ?"
   ]
  },
  {
   "cell_type": "code",
   "execution_count": 8,
   "metadata": {},
   "outputs": [
    {
     "name": "stdout",
     "output_type": "stream",
     "text": [
      "[array([[-0.6984171]], dtype=float32), array([1.027374], dtype=float32)]\n"
     ]
    }
   ],
   "source": [
    "weights = model.layers[0].get_weights()\n",
    "print(weights)"
   ]
  }
 ],
 "metadata": {
  "kernelspec": {
   "display_name": "tensorflow",
   "language": "python",
   "name": "tensorflow"
  },
  "language_info": {
   "codemirror_mode": {
    "name": "ipython",
    "version": 3
   },
   "file_extension": ".py",
   "mimetype": "text/x-python",
   "name": "python",
   "nbconvert_exporter": "python",
   "pygments_lexer": "ipython3",
   "version": "3.7.2"
  }
 },
 "nbformat": 4,
 "nbformat_minor": 1
}
