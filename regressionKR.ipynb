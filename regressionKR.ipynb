{
 "cells": [
  {
   "cell_type": "markdown",
   "metadata": {},
   "source": [
    "# week 9\n",
    "## 5/2"
   ]
  },
  {
   "cell_type": "markdown",
   "metadata": {},
   "source": [
    "### import modules"
   ]
  },
  {
   "cell_type": "code",
   "execution_count": 1,
   "metadata": {},
   "outputs": [],
   "source": [
    "import tensorflow as tf\n",
    "import pandas as pd\n",
    "import numpy as np\n",
    "import matplotlib.pyplot as plt\n",
    "\n",
    "from tensorflow.keras.models import Sequential\n",
    "from tensorflow.keras.layers import Dense"
   ]
  },
  {
   "cell_type": "markdown",
   "metadata": {},
   "source": [
    "### data preparation and visualization\n",
    "regression.csv 파일을 불러 와서 X 와 Y 에 해당하는 데이터를 뽑아 plot 해 본다."
   ]
  },
  {
   "cell_type": "code",
   "execution_count": 2,
   "metadata": {},
   "outputs": [
    {
     "data": {
      "text/plain": [
       "[<matplotlib.lines.Line2D at 0x1326030f0>]"
      ]
     },
     "execution_count": 2,
     "metadata": {},
     "output_type": "execute_result"
    },
    {
     "data": {
      "image/png": "[encoded data removed]",
      "text/plain": [
       "<Figure size 432x288 with 1 Axes>"
      ]
     },
     "metadata": {
      "needs_background": "light"
     },
     "output_type": "display_data"
    }
   ],
   "source": [
    "# Training Data\n",
    "data = pd.read_csv('regression.csv', delimiter = ',')\n",
    "X = data['X']\n",
    "Y = data['Y']\n",
    "plt.plot(X, Y, '.')"
   ]
  },
  {
   "cell_type": "markdown",
   "metadata": {},
   "source": [
    "fully connected 되어 있는 dense layer\n",
    "\n",
    "output shape = 1, input shape = 1로 지정\n",
    "\n",
    "loss = mean squared error"
   ]
  },
  {
   "cell_type": "markdown",
   "metadata": {},
   "source": [
    "### create model\n",
    "\n",
    "sequential을 통해 모델 구축 준비\n",
    "\n",
    "dense 는 fully connected layer를 의미한다\n",
    "\n",
    "optimizer와 loss를 설정해 준다"
   ]
  },
  {
   "cell_type": "code",
   "execution_count": 3,
   "metadata": {},
   "outputs": [
    {
     "name": "stdout",
     "output_type": "stream",
     "text": [
      "WARNING:tensorflow:From /Users/yoonna/anaconda3/envs/tensorflow/lib/python3.7/site-packages/tensorflow/python/ops/resource_variable_ops.py:435: colocate_with (from tensorflow.python.framework.ops) is deprecated and will be removed in a future version.\n",
      "Instructions for updating:\n",
      "Colocations handled automatically by placer.\n",
      "WARNING:tensorflow:From /Users/yoonna/anaconda3/envs/tensorflow/lib/python3.7/site-packages/tensorflow/python/keras/utils/losses_utils.py:170: to_float (from tensorflow.python.ops.math_ops) is deprecated and will be removed in a future version.\n",
      "Instructions for updating:\n",
      "Use tf.cast instead.\n"
     ]
    }
   ],
   "source": [
    "model = Sequential()\n",
    "model.add(Dense(1, input_shape=[1]))\n",
    "model.compile(optimizer=\"sgd\", loss='mse')"
   ]
  },
  {
   "cell_type": "markdown",
   "metadata": {},
   "source": [
    "### train model\n",
    "\n",
    "epochs : train 할 횟수"
   ]
  },
  {
   "cell_type": "code",
   "execution_count": 4,
   "metadata": {},
   "outputs": [
    {
     "name": "stdout",
     "output_type": "stream",
     "text": [
      "WARNING:tensorflow:From /Users/yoonna/anaconda3/envs/tensorflow/lib/python3.7/site-packages/tensorflow/python/ops/math_ops.py:3066: to_int32 (from tensorflow.python.ops.math_ops) is deprecated and will be removed in a future version.\n",
      "Instructions for updating:\n",
      "Use tf.cast instead.\n",
      "Epoch 1/100\n",
      "17/17 [==============================] - 0s 12ms/sample - loss: 82.1142\n",
      "Epoch 2/100\n",
      "17/17 [==============================] - 0s 115us/sample - loss: 1.0404\n",
      "Epoch 3/100\n",
      "17/17 [==============================] - 0s 107us/sample - loss: 0.2804\n",
      "Epoch 4/100\n",
      "17/17 [==============================] - 0s 106us/sample - loss: 0.2727\n",
      "Epoch 5/100\n",
      "17/17 [==============================] - 0s 127us/sample - loss: 0.2721\n",
      "Epoch 6/100\n",
      "17/17 [==============================] - 0s 138us/sample - loss: 0.2715\n",
      "Epoch 7/100\n",
      "17/17 [==============================] - 0s 118us/sample - loss: 0.2709\n",
      "Epoch 8/100\n",
      "17/17 [==============================] - 0s 111us/sample - loss: 0.2704\n",
      "Epoch 9/100\n",
      "17/17 [==============================] - 0s 126us/sample - loss: 0.2698\n",
      "Epoch 10/100\n",
      "17/17 [==============================] - 0s 114us/sample - loss: 0.2693\n",
      "Epoch 11/100\n",
      "17/17 [==============================] - 0s 105us/sample - loss: 0.2687\n",
      "Epoch 12/100\n",
      "17/17 [==============================] - 0s 87us/sample - loss: 0.2681\n",
      "Epoch 13/100\n",
      "17/17 [==============================] - 0s 88us/sample - loss: 0.2676\n",
      "Epoch 14/100\n",
      "17/17 [==============================] - 0s 127us/sample - loss: 0.2670\n",
      "Epoch 15/100\n",
      "17/17 [==============================] - 0s 87us/sample - loss: 0.2665\n",
      "Epoch 16/100\n",
      "17/17 [==============================] - 0s 113us/sample - loss: 0.2659\n",
      "Epoch 17/100\n",
      "17/17 [==============================] - 0s 112us/sample - loss: 0.2654\n",
      "Epoch 18/100\n",
      "17/17 [==============================] - 0s 96us/sample - loss: 0.2649\n",
      "Epoch 19/100\n",
      "17/17 [==============================] - 0s 108us/sample - loss: 0.2643\n",
      "Epoch 20/100\n",
      "17/17 [==============================] - 0s 144us/sample - loss: 0.2638\n",
      "Epoch 21/100\n",
      "17/17 [==============================] - 0s 100us/sample - loss: 0.2632\n",
      "Epoch 22/100\n",
      "17/17 [==============================] - 0s 86us/sample - loss: 0.2627\n",
      "Epoch 23/100\n",
      "17/17 [==============================] - 0s 109us/sample - loss: 0.2622\n",
      "Epoch 24/100\n",
      "17/17 [==============================] - 0s 87us/sample - loss: 0.2617\n",
      "Epoch 25/100\n",
      "17/17 [==============================] - 0s 124us/sample - loss: 0.2611\n",
      "Epoch 26/100\n",
      "17/17 [==============================] - 0s 108us/sample - loss: 0.2606\n",
      "Epoch 27/100\n",
      "17/17 [==============================] - 0s 138us/sample - loss: 0.2601\n",
      "Epoch 28/100\n",
      "17/17 [==============================] - 0s 105us/sample - loss: 0.2596\n",
      "Epoch 29/100\n",
      "17/17 [==============================] - 0s 101us/sample - loss: 0.2591\n",
      "Epoch 30/100\n",
      "17/17 [==============================] - 0s 538us/sample - loss: 0.2586\n",
      "Epoch 31/100\n",
      "17/17 [==============================] - 0s 234us/sample - loss: 0.2581\n",
      "Epoch 32/100\n",
      "17/17 [==============================] - 0s 106us/sample - loss: 0.2575\n",
      "Epoch 33/100\n",
      "17/17 [==============================] - 0s 125us/sample - loss: 0.2570\n",
      "Epoch 34/100\n",
      "17/17 [==============================] - 0s 91us/sample - loss: 0.2565\n",
      "Epoch 35/100\n",
      "17/17 [==============================] - 0s 187us/sample - loss: 0.2560\n",
      "Epoch 36/100\n",
      "17/17 [==============================] - 0s 158us/sample - loss: 0.2556\n",
      "Epoch 37/100\n",
      "17/17 [==============================] - 0s 112us/sample - loss: 0.2551\n",
      "Epoch 38/100\n",
      "17/17 [==============================] - 0s 131us/sample - loss: 0.2546\n",
      "Epoch 39/100\n",
      "17/17 [==============================] - 0s 137us/sample - loss: 0.2541\n",
      "Epoch 40/100\n",
      "17/17 [==============================] - 0s 122us/sample - loss: 0.2536\n",
      "Epoch 41/100\n",
      "17/17 [==============================] - 0s 87us/sample - loss: 0.2531\n",
      "Epoch 42/100\n",
      "17/17 [==============================] - 0s 96us/sample - loss: 0.2526\n",
      "Epoch 43/100\n",
      "17/17 [==============================] - 0s 128us/sample - loss: 0.2522\n",
      "Epoch 44/100\n",
      "17/17 [==============================] - 0s 103us/sample - loss: 0.2517\n",
      "Epoch 45/100\n",
      "17/17 [==============================] - 0s 128us/sample - loss: 0.2512\n",
      "Epoch 46/100\n",
      "17/17 [==============================] - 0s 111us/sample - loss: 0.2507\n",
      "Epoch 47/100\n",
      "17/17 [==============================] - 0s 150us/sample - loss: 0.2503\n",
      "Epoch 48/100\n",
      "17/17 [==============================] - 0s 108us/sample - loss: 0.2498\n",
      "Epoch 49/100\n",
      "17/17 [==============================] - 0s 101us/sample - loss: 0.2493\n",
      "Epoch 50/100\n",
      "17/17 [==============================] - 0s 110us/sample - loss: 0.2489\n",
      "Epoch 51/100\n",
      "17/17 [==============================] - 0s 150us/sample - loss: 0.2484\n",
      "Epoch 52/100\n",
      "17/17 [==============================] - 0s 90us/sample - loss: 0.2479\n",
      "Epoch 53/100\n",
      "17/17 [==============================] - 0s 105us/sample - loss: 0.2475\n",
      "Epoch 54/100\n",
      "17/17 [==============================] - 0s 138us/sample - loss: 0.2470\n",
      "Epoch 55/100\n",
      "17/17 [==============================] - 0s 136us/sample - loss: 0.2466\n",
      "Epoch 56/100\n",
      "17/17 [==============================] - 0s 171us/sample - loss: 0.2461\n",
      "Epoch 57/100\n",
      "17/17 [==============================] - 0s 177us/sample - loss: 0.2457\n",
      "Epoch 58/100\n",
      "17/17 [==============================] - 0s 166us/sample - loss: 0.2452\n",
      "Epoch 59/100\n",
      "17/17 [==============================] - 0s 165us/sample - loss: 0.2448\n",
      "Epoch 60/100\n",
      "17/17 [==============================] - 0s 172us/sample - loss: 0.2444\n",
      "Epoch 61/100\n",
      "17/17 [==============================] - 0s 155us/sample - loss: 0.2439\n",
      "Epoch 62/100\n",
      "17/17 [==============================] - 0s 193us/sample - loss: 0.2435\n",
      "Epoch 63/100\n",
      "17/17 [==============================] - 0s 179us/sample - loss: 0.2430\n",
      "Epoch 64/100\n",
      "17/17 [==============================] - 0s 148us/sample - loss: 0.2426\n",
      "Epoch 65/100\n",
      "17/17 [==============================] - 0s 148us/sample - loss: 0.2422\n",
      "Epoch 66/100\n",
      "17/17 [==============================] - 0s 224us/sample - loss: 0.2418\n",
      "Epoch 67/100\n",
      "17/17 [==============================] - 0s 128us/sample - loss: 0.2413\n",
      "Epoch 68/100\n",
      "17/17 [==============================] - 0s 189us/sample - loss: 0.2409\n",
      "Epoch 69/100\n",
      "17/17 [==============================] - 0s 208us/sample - loss: 0.2405\n",
      "Epoch 70/100\n",
      "17/17 [==============================] - 0s 193us/sample - loss: 0.2401\n",
      "Epoch 71/100\n",
      "17/17 [==============================] - 0s 114us/sample - loss: 0.2396\n",
      "Epoch 72/100\n",
      "17/17 [==============================] - 0s 174us/sample - loss: 0.2392\n",
      "Epoch 73/100\n",
      "17/17 [==============================] - 0s 164us/sample - loss: 0.2388\n",
      "Epoch 74/100\n",
      "17/17 [==============================] - 0s 138us/sample - loss: 0.2384\n",
      "Epoch 75/100\n",
      "17/17 [==============================] - 0s 168us/sample - loss: 0.2380\n",
      "Epoch 76/100\n",
      "17/17 [==============================] - 0s 445us/sample - loss: 0.2376\n",
      "Epoch 77/100\n",
      "17/17 [==============================] - 0s 372us/sample - loss: 0.2372\n",
      "Epoch 78/100\n",
      "17/17 [==============================] - 0s 868us/sample - loss: 0.2368\n",
      "Epoch 79/100\n",
      "17/17 [==============================] - 0s 4ms/sample - loss: 0.2364\n",
      "Epoch 80/100\n",
      "17/17 [==============================] - 0s 372us/sample - loss: 0.2360\n",
      "Epoch 81/100\n",
      "17/17 [==============================] - 0s 152us/sample - loss: 0.2356\n",
      "Epoch 82/100\n",
      "17/17 [==============================] - 0s 313us/sample - loss: 0.2352\n",
      "Epoch 83/100\n",
      "17/17 [==============================] - 0s 168us/sample - loss: 0.2348\n",
      "Epoch 84/100\n",
      "17/17 [==============================] - 0s 220us/sample - loss: 0.2344\n",
      "Epoch 85/100\n",
      "17/17 [==============================] - 0s 301us/sample - loss: 0.2340\n",
      "Epoch 86/100\n",
      "17/17 [==============================] - 0s 222us/sample - loss: 0.2336\n",
      "Epoch 87/100\n",
      "17/17 [==============================] - 0s 219us/sample - loss: 0.2332\n",
      "Epoch 88/100\n",
      "17/17 [==============================] - 0s 174us/sample - loss: 0.2328\n",
      "Epoch 89/100\n",
      "17/17 [==============================] - 0s 146us/sample - loss: 0.2325\n",
      "Epoch 90/100\n",
      "17/17 [==============================] - 0s 140us/sample - loss: 0.2321\n",
      "Epoch 91/100\n",
      "17/17 [==============================] - 0s 124us/sample - loss: 0.2317\n",
      "Epoch 92/100\n",
      "17/17 [==============================] - 0s 129us/sample - loss: 0.2313\n",
      "Epoch 93/100\n",
      "17/17 [==============================] - 0s 127us/sample - loss: 0.2309\n",
      "Epoch 94/100\n",
      "17/17 [==============================] - 0s 238us/sample - loss: 0.2306\n"
     ]
    },
    {
     "name": "stdout",
     "output_type": "stream",
     "text": [
      "Epoch 95/100\n",
      "17/17 [==============================] - 0s 342us/sample - loss: 0.2302\n",
      "Epoch 96/100\n",
      "17/17 [==============================] - 0s 129us/sample - loss: 0.2298\n",
      "Epoch 97/100\n",
      "17/17 [==============================] - 0s 252us/sample - loss: 0.2295\n",
      "Epoch 98/100\n",
      "17/17 [==============================] - 0s 125us/sample - loss: 0.2291\n",
      "Epoch 99/100\n",
      "17/17 [==============================] - 0s 220us/sample - loss: 0.2287\n",
      "Epoch 100/100\n",
      "17/17 [==============================] - 0s 177us/sample - loss: 0.2284\n"
     ]
    },
    {
     "data": {
      "text/plain": [
       "<tensorflow.python.keras.callbacks.History at 0x111aee240>"
      ]
     },
     "execution_count": 4,
     "metadata": {},
     "output_type": "execute_result"
    }
   ],
   "source": [
    "model.fit(X, Y, epochs=100)"
   ]
  },
  {
   "cell_type": "markdown",
   "metadata": {},
   "source": [
    "### predict model\n",
    "\n",
    "모델로 예측을 직접 해본다"
   ]
  },
  {
   "cell_type": "code",
   "execution_count": 5,
   "metadata": {},
   "outputs": [
    {
     "data": {
      "image/png": "[encoded data removed]",
      "text/plain": [
       "<Figure size 432x288 with 1 Axes>"
      ]
     },
     "metadata": {
      "needs_background": "light"
     },
     "output_type": "display_data"
    }
   ],
   "source": [
    "x = [1, 2, 3, 4, 5, 6, 7, 8, 9, 10]\n",
    "y = model.predict(x)\n",
    "plt.plot(X, Y, '.')\n",
    "plt.plot(x,y, 'x')\n",
    "plt.show()"
   ]
  },
  {
   "cell_type": "markdown",
   "metadata": {},
   "source": [
    "## what are a and b in y = ax + b ?\n",
    "\n",
    "y = ax + b 에서 a와 b는 x에서 y를 도출하는 weights"
   ]
  },
  {
   "cell_type": "code",
   "execution_count": 6,
   "metadata": {},
   "outputs": [
    {
     "name": "stdout",
     "output_type": "stream",
     "text": [
      "[array([[0.36079404]], dtype=float32), array([0.02491227], dtype=float32)]\n"
     ]
    }
   ],
   "source": [
    "weights = model.layers[0].get_weights()\n",
    "print(weights)"
   ]
  }
 ],
 "metadata": {
  "kernelspec": {
   "display_name": "tensorflow",
   "language": "python",
   "name": "tensorflow"
  },
  "language_info": {
   "codemirror_mode": {
    "name": "ipython",
    "version": 3
   },
   "file_extension": ".py",
   "mimetype": "text/x-python",
   "name": "python",
   "nbconvert_exporter": "python",
   "pygments_lexer": "ipython3",
   "version": "3.7.2"
  }
 },
 "nbformat": 4,
 "nbformat_minor": 1
}
